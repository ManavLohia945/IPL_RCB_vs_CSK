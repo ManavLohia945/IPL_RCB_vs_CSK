{
  "cells": [
    {
      "cell_type": "markdown",
      "metadata": {
        "id": "sN3CBg8hB2_U"
      },
      "source": [
        "**Loading Bowlers dataset**"
      ]
    },
    {
      "cell_type": "code",
      "execution_count": 24,
      "metadata": {
        "colab": {
          "base_uri": "https://localhost:8080/"
        },
        "id": "whYRCcH870WZ",
        "outputId": "e2c9eb3c-70cb-4bbd-a040-18dbbdccda74"
      },
      "outputs": [
        {
          "name": "stdout",
          "output_type": "stream",
          "text": [
            "            Player Team Role_of_player    Nationality  Mat  Inns    Ov  Runs  \\\n",
            "0      Abdul Samad  SRH    All Rounder  Indian origin   23     4   8.0   105   \n",
            "1   Abhishek Nayar  CSK         Bowler  Indian origin    4     1   1.0    16   \n",
            "2  Abhishek Sharma  SRH    All Rounder  Indian origin   19    14  22.0   176   \n",
            "3       Adam Milne  CSK    All Rounder       Overseas    9     9  32.0   308   \n",
            "4       Adam Zampa  RCB    All Rounder       Overseas   14    14  47.5   370   \n",
            "\n",
            "   Wkts        Avg       Econ         SR  \n",
            "0     2  52.500000  11.355000  24.000000  \n",
            "1     0   0.000000  16.000000   0.000000  \n",
            "2     7  27.500000   8.666667  19.000000  \n",
            "3     7  43.773333   9.890000  26.666667  \n",
            "4    21  26.286667   7.776667  19.500000  \n",
            "Player\n",
            "Team\n",
            "Role_of_player\n",
            "Nationality\n",
            "Mat\n",
            "Inns\n",
            "Ov\n",
            "Runs\n",
            "Wkts\n",
            "Avg\n",
            "Econ\n",
            "SR\n"
          ]
        }
      ],
      "source": [
        "import pandas as pd\n",
        "\n",
        "# Assuming your CSV file is named 'bowlers_dataset.csv'\n",
        "file_path = 'Bowler dataset - Sheet1.csv'\n",
        "\n",
        "# Read the CSV file into a DataFrame\n",
        "df = pd.read_csv(file_path)\n",
        "df = df.rename(columns={'Role': 'Role_of_player'})\n",
        "df.columns = df.columns.str.strip()\n",
        "\n",
        "# Display the first few rows of the DataFrame to check the structure\n",
        "print(df.head())\n",
        "\n",
        "for column in df.columns:\n",
        "    print(column)"
      ]
    },
    {
      "cell_type": "markdown",
      "metadata": {
        "id": "MjtzG8xQB9LE"
      },
      "source": [
        "**Converting to numerical values (One-hot label encoding)**"
      ]
    },
    {
      "cell_type": "code",
      "execution_count": 25,
      "metadata": {
        "colab": {
          "base_uri": "https://localhost:8080/"
        },
        "id": "B9h8ZFoLQOvt",
        "outputId": "54025def-11b5-4bba-916e-da657d6e3d6c"
      },
      "outputs": [
        {
          "name": "stdout",
          "output_type": "stream",
          "text": [
            "                  Player  Role_Encoded  Nationality_Encoded  Team     Ov  \\\n",
            "48          Dwayne Bravo             1                    0   CSK  429.8   \n",
            "11           Amit Mishra             0                    1    DC  492.7   \n",
            "135  Ravichandran Ashwin             0                    1    RR  581.8   \n",
            "181     Yuzvendra Chahal             0                    1    RR  407.2   \n",
            "25     Bhuvneshwar Kumar             0                    1   SRH  451.9   \n",
            "..                   ...           ...                  ...   ...    ...   \n",
            "58             Ish Sodhi             1                    0    RR   30.1   \n",
            "177          Virat Kohli             1                    1   RCB   41.1   \n",
            "55         Harpreet Brar             1                    1  PBKS   32.0   \n",
            "66          Jayant Yadav             0                    1    DC   61.0   \n",
            "161         Suresh Raina             0                    1   CSK   35.0   \n",
            "\n",
            "     Predicted_Econ  Predicted_Wkts  Combined_Score  \n",
            "48         8.276388      151.981210       51.387834  \n",
            "11         7.385000      152.978009       51.062903  \n",
            "135        6.633295      144.987729       48.139625  \n",
            "181        7.715072      138.993162       47.098499  \n",
            "25         7.201768      133.991132       45.238577  \n",
            "..              ...             ...             ...  \n",
            "58         7.595889        9.005468        8.018763  \n",
            "177        9.693068        4.005992        7.986945  \n",
            "55         8.640675        4.999231        7.548242  \n",
            "66         6.573245        7.991901        6.998842  \n",
            "161        7.617199        2.994450        6.230374  \n",
            "\n",
            "[104 rows x 8 columns]\n"
          ]
        }
      ],
      "source": [
        "import pandas as pd\n",
        "from sklearn.ensemble import GradientBoostingRegressor\n",
        "\n",
        "# Assuming df is your DataFrame with bowler stats\n",
        "\n",
        "# Define functions to map categories to numerical values\n",
        "def encode_role(role):\n",
        "    if role == 'Bowler':\n",
        "        return 0\n",
        "    elif role == 'All Rounder':\n",
        "        return 1\n",
        "    else:\n",
        "        return -1  # Add a default value for unexpected roles\n",
        "\n",
        "def encode_nationality(nationality):\n",
        "    if nationality == 'Overseas':\n",
        "        return 0\n",
        "    elif nationality == 'Indian origin':\n",
        "        return 1\n",
        "    else:\n",
        "        return -1  # Add a default value for unexpected nationalities\n",
        "\n",
        "# Handle missing values (example)\n",
        "df['Role_of_player'].fillna('Unknown', inplace=True)\n",
        "\n",
        "# Apply the encoding functions\n",
        "df['Role_Encoded'] = df['Role_of_player'].apply(encode_role)\n",
        "df['Nationality_Encoded'] = df['Nationality'].apply(encode_nationality)\n",
        "\n",
        "# Features (X): All columns except 'Player', 'Team', and original categorical columns\n",
        "X = df.drop(columns=['Player', 'Team', 'Role_of_player', 'Nationality'])\n",
        "\n",
        "# Target variables (y): 'Econ' and 'Wkts'\n",
        "y_econ = df['Econ']\n",
        "y_wkts = df['Wkts']\n",
        "\n",
        "# Initialize the Gradient Boosting Regressor for economy\n",
        "model_econ = GradientBoostingRegressor()\n",
        "# Train the model for economy\n",
        "model_econ.fit(X, y_econ)\n",
        "# Make predictions for all players' economy\n",
        "df['Predicted_Econ'] = model_econ.predict(X)\n",
        "\n",
        "# Initialize the Gradient Boosting Regressor for wickets\n",
        "model_wkts = GradientBoostingRegressor()\n",
        "# Train the model for wickets\n",
        "model_wkts.fit(X, y_wkts)\n",
        "# Make predictions for all players' wickets\n",
        "df['Predicted_Wkts'] = model_wkts.predict(X)\n",
        "\n",
        "# Combine both predictions with weights (adjust weights as needed)\n",
        "weight_econ = 0.7\n",
        "weight_wkts = 0.3\n",
        "df['Combined_Score'] = (weight_econ * df['Predicted_Econ']) + (weight_wkts * df['Predicted_Wkts'])\n",
        "\n",
        "# Filter players who have bowled over 50 overs\n",
        "df_filtered = df[df['Ov'] > 30]\n",
        "\n",
        "# Sort the filtered DataFrame based on the combined score in descending order\n",
        "df_bowlers_sorted = df_filtered.sort_values(by='Combined_Score', ascending=False)\n",
        "\n",
        "# Display the sorted DataFrame\n",
        "# print(df_bowlers_sorted['Role_Encoded'])\n",
        "print(df_bowlers_sorted[['Player', 'Role_Encoded', 'Nationality_Encoded', 'Team', 'Ov', 'Predicted_Econ', 'Predicted_Wkts', 'Combined_Score']])\n",
        "\n"
      ]
    },
    {
      "cell_type": "code",
      "execution_count": 6,
      "metadata": {
        "id": "O_fYArcVcatG"
      },
      "outputs": [],
      "source": [
        "df_bowlers_sorted.to_csv(\"Bowlers Updated DataSet with Combined Score.csv\", index=False)"
      ]
    },
    {
      "cell_type": "markdown",
      "metadata": {
        "id": "orvZPf3aCDwq"
      },
      "source": [
        "**Loading Batsmen Dataset**"
      ]
    },
    {
      "cell_type": "code",
      "execution_count": 26,
      "metadata": {
        "colab": {
          "base_uri": "https://localhost:8080/"
        },
        "id": "18DfRBH3D2cj",
        "outputId": "0363c131-268e-4355-f267-7feaee30cad6"
      },
      "outputs": [
        {
          "name": "stdout",
          "output_type": "stream",
          "text": [
            "            Player  Team         Role    Nationality  Mat  Inns  Runs  \\\n",
            "0       Adam Milne   CSK  All Rounder       Overseas    8     6    23   \n",
            "1       Adam Zampa   RCB  All Rounder       Overseas   11     2     5   \n",
            "2    Aiden Markram   SRH  All Rounder       Overseas    6     6   146   \n",
            "3   Ajinkya Rahane   KKR      Batsmen  Indian origin  115   109  3113   \n",
            "4  Akila Dananjaya    DC  All Rounder       Overseas    1     1     4   \n",
            "5    Akshdeep Nath  PBKS      Batsmen  Indian origin   10     7    70   \n",
            "6       Alex Carey   KKR   Batsmen/WK       Overseas    3     3    32   \n",
            "7       Alex Hales   LSG      Batsmen       Overseas    6     6   148   \n",
            "8   Alzarri Joseph    MI  All Rounder       Overseas    3     2    15   \n",
            "9    Ambati Rayudu   CSK      Batsmen  Indian origin  109   102  2567   \n",
            "\n",
            "         Avg          SR  50   4s   6s  \n",
            "0   5.750000   76.220000   0    0    1  \n",
            "1   2.500000   35.710000   0    1    0  \n",
            "2  29.200000  122.680000   0   12    4  \n",
            "3  29.401111  117.821111  22  319   61  \n",
            "4   0.000000   80.000000   0    0    0  \n",
            "5   7.066667   58.746667   0    6    2  \n",
            "6  16.000000  110.340000   0    0    1  \n",
            "7  24.660000  125.420000   0   13    6  \n",
            "8   0.000000  115.380000   0    2    0  \n",
            "9  30.061250  128.681250  13  203  109  \n"
          ]
        }
      ],
      "source": [
        "import pandas as pd\n",
        "\n",
        "# Assuming your CSV file is named 'bowlers_dataset.csv'\n",
        "file_path = 'Batsmen dataset - Sheet1.csv'\n",
        "\n",
        "# Read the CSV file into a DataFrame\n",
        "df_batsmen = pd.read_csv(file_path)\n",
        "\n",
        "# Display the first few rows of the DataFrame to check the structure\n",
        "print(df_batsmen.head(10))\n"
      ]
    },
    {
      "cell_type": "markdown",
      "metadata": {
        "id": "c3rDnj-HCJVm"
      },
      "source": [
        "**Converting to numerical values (One-hot label encoding)**"
      ]
    },
    {
      "cell_type": "code",
      "execution_count": 27,
      "metadata": {
        "colab": {
          "base_uri": "https://localhost:8080/"
        },
        "id": "8TKsOhGwXbrR",
        "outputId": "c4be164f-15fc-40bf-cc00-9d4b054241b7"
      },
      "outputs": [
        {
          "name": "stdout",
          "output_type": "stream",
          "text": [
            "                Player  Team  Role_Encoded  Nationality_Encoded  Mat  Inns  \\\n",
            "213        Virat Kohli   RCB             0                    1  159   158   \n",
            "163       Rohit Sharma    MI             0                    1  164   160   \n",
            "124           MS Dhoni   CSK             1                    1  174   152   \n",
            "42        David Warner    DC             2                    0  124   124   \n",
            "180     Shikhar Dhawan  PBKS             0                    1  162   162   \n",
            "..                 ...   ...           ...                  ...  ...   ...   \n",
            "207        Umesh Yadav    DC             2                    1   90    32   \n",
            "122       Mohit Sharma  PBKS             2                    1   70    25   \n",
            "26   Bhuvneshwar Kumar   SRH             2                    1  117    41   \n",
            "10         Amit Mishra    DC             2                    1  108    35   \n",
            "169     Sandeep Sharma  PBKS             2                    1   95    24   \n",
            "\n",
            "     Predicted_Avg  Predicted_SR  Combined_Score  \n",
            "213      54.648870    129.429954       77.083195  \n",
            "163      50.840579    130.902634       74.859195  \n",
            "124      48.811920    132.501875       73.918906  \n",
            "42       46.150635    134.311104       72.598776  \n",
            "180      43.510648    128.038154       68.868899  \n",
            "..             ...           ...             ...  \n",
            "207       5.536396     95.595930       32.554256  \n",
            "122       6.814016     91.600488       32.249958  \n",
            "26        4.091067     88.676448       29.466681  \n",
            "10        4.133317     81.971678       27.484825  \n",
            "169       2.493493     83.796322       26.884342  \n",
            "\n",
            "[81 rows x 9 columns]\n"
          ]
        }
      ],
      "source": [
        "import pandas as pd\n",
        "from sklearn.linear_model import LinearRegression\n",
        "from sklearn.ensemble import GradientBoostingRegressor\n",
        "from sklearn.model_selection import train_test_split\n",
        "\n",
        "\n",
        "# Define functions to map categories to numerical values\n",
        "def encode_role(role):\n",
        "    if role == 'Batsmen':\n",
        "        return 0\n",
        "    elif role == 'Batsmen/WK':\n",
        "        return 1\n",
        "    elif role == 'All Rounder':\n",
        "        return 2\n",
        "    else:\n",
        "        return -1  # Add a default value for unexpected roles\n",
        "\n",
        "def encode_nationality(nationality):\n",
        "    if nationality == 'Overseas':\n",
        "        return 0\n",
        "    elif nationality == 'Indian origin':\n",
        "        return 1\n",
        "    else:\n",
        "        return -1  # Add a default value for unexpected nationalities\n",
        "\n",
        "# Apply the encoding functions\n",
        "df_batsmen['Role_Encoded'] = df_batsmen['Role'].apply(encode_role)\n",
        "df_batsmen['Nationality_Encoded'] = df_batsmen['Nationality'].apply(encode_nationality)\n",
        "\n",
        "# Features (X): All columns except 'Avg', 'SR', 'Player', and 'Team'\n",
        "X_batsmen = df_batsmen.drop(columns=['Avg', 'SR', 'Player', 'Team','Role', 'Nationality'])\n",
        "\n",
        "# Target variable for average (y): 'Avg'\n",
        "y_avg = df_batsmen['Avg']\n",
        "\n",
        "# Step 1: Initialize Linear Regression\n",
        "linear_model = LinearRegression()\n",
        "\n",
        "# Step 2: Train Linear Regression model\n",
        "linear_model.fit(X_batsmen, y_avg)\n",
        "\n",
        "# Step 3: Get predicted average from Linear Regression model\n",
        "df_batsmen['Predicted_Avg'] = linear_model.predict(X_batsmen)\n",
        "\n",
        "# Initialize the Gradient Boosting Regressor for strike rate\n",
        "model_sr = GradientBoostingRegressor()\n",
        "\n",
        "# Target variable for strike rate (y): 'SR'\n",
        "y_sr = df_batsmen['SR']\n",
        "\n",
        "# Train the model for strike rate\n",
        "model_sr.fit(X_batsmen, y_sr)\n",
        "\n",
        "# Make predictions for all batsmen's strike rate\n",
        "df_batsmen['Predicted_SR'] = model_sr.predict(X_batsmen)\n",
        "\n",
        "# Combine both predictions with weights (adjust weights as needed)\n",
        "weight_avg = 0.7\n",
        "weight_sr = 0.3\n",
        "df_batsmen['Combined_Score'] = (weight_avg * df_batsmen['Predicted_Avg']) + (weight_sr * df_batsmen['Predicted_SR'])\n",
        "\n",
        "# Filter batsmen who have played over 20 innings\n",
        "df_batsmen_filtered = df_batsmen[df_batsmen['Inns'] > 20]\n",
        "\n",
        "# Sort the filtered DataFrame based on the combined score in descending order\n",
        "df_batsmen_sorted = df_batsmen_filtered.sort_values(by='Combined_Score', ascending=False)\n",
        "\n",
        "# Display the sorted DataFrame\n",
        "print(df_batsmen_sorted[['Player', 'Team', 'Role_Encoded', 'Nationality_Encoded','Mat' ,'Inns','Predicted_Avg', 'Predicted_SR', 'Combined_Score']])\n"
      ]
    },
    {
      "cell_type": "code",
      "execution_count": 9,
      "metadata": {
        "id": "1z3Splwoa01t"
      },
      "outputs": [],
      "source": [
        "df_batsmen_sorted.to_csv(\"Batsmen Updated DataSet1 with Combined Score.csv\", index=False)"
      ]
    },
    {
      "cell_type": "markdown",
      "metadata": {
        "id": "-GB8glMmCLiD"
      },
      "source": [
        "**Final Output of 4 batsmen, 4 bowlers, 1 Batsmen/WK and 1 All Rounder**"
      ]
    },
    {
      "cell_type": "code",
      "execution_count": 22,
      "metadata": {
        "colab": {
          "base_uri": "https://localhost:8080/"
        },
        "id": "YPbXBLiCirL5",
        "outputId": "5881c278-ed7f-4da2-e8c0-a35d8e5575c6"
      },
      "outputs": [
        {
          "name": "stdout",
          "output_type": "stream",
          "text": [
            "             Player\n",
            "2          MS Dhoni\n",
            "9     Ambati Rayudu\n",
            "14    Hardik Pandya\n",
            "17   Ajinkya Rahane\n",
            "7   Ravindra Jadeja\n",
            "12     Mohit Sharma\n",
            "14      Rashid Khan\n",
            "25    Deepak Chahar\n",
            "['MS Dhoni', 'Ambati Rayudu', 'Hardik Pandya', 'Ajinkya Rahane', 'Ravindra Jadeja', 'Mohit Sharma', 'Rashid Khan', 'Deepak Chahar']\n"
          ]
        }
      ],
      "source": [
        "import pandas as pd\n",
        "import json\n",
        "\n",
        "# List of 22 players\n",
        "players_list = [\n",
        "    \"Wriddhiman Saha\", \"Shubman Gill\", \"Sai Sudharshan\", \"Hardik Pandya\",\n",
        "    \"Rashid Khan\", \"Vijay Shankar\", \"David Miller\", \"Rahul Tewatia\",\n",
        "    \"Mohit Sharma\", \"Noor Ahmad\", \"Mohammed Shami\", \"Ruturaj Gaikwad\",\n",
        "    \"Devon Conway\", \"Shivam Dube\", \"Ajinkya Rahane\", \"Ambati Rayudu\",\n",
        "    \"MS Dhoni\", \"Ravindra Jadeja\", \"Moeen Ali\", \"Deepak Chahar\",\n",
        "    \"Tushar Deshpande\", \"Maheesh Theekshana\"\n",
        "]\n",
        "# Assuming your CSV file is named 'bowlers_dataset.csv'\n",
        "file_path_bowlers = 'Bowlers Updated DataSet with Combined Score.csv'\n",
        "# Assuming your CSV file is named 'batsmen_dataset.csv'\n",
        "file_path_batsmen = 'Batsmen Updated DataSet1 with Combined Score.csv'\n",
        "\n",
        "# Read the CSV file into DataFrames\n",
        "df_bowlers = pd.read_csv(file_path_bowlers)\n",
        "df_batsmen = pd.read_csv(file_path_batsmen)\n",
        "\n",
        "# Replace missing values in 'Role' column with 'Bowler'\n",
        "df_bowlers['Role_of_player'].fillna('Bowler', inplace=True)  # Replacing NaN values with 'Bowler'\n",
        "df_batsmen['Role'].fillna('Unknown', inplace=True)\n",
        "\n",
        "# Selecting only the players from the list of 22 players\n",
        "df_bowlers_filtered = df_bowlers[df_bowlers['Player'].isin(players_list)]\n",
        "df_batsmen_filtered = df_batsmen[df_batsmen['Player'].isin(players_list)]\n",
        "\n",
        "# Selecting top 4 batsmen based on combined score\n",
        "top_batsmen = df_batsmen_filtered.sort_values(by='Combined_Score', ascending=False).head(4)\n",
        "\n",
        "# Selecting top 4 bowlers\n",
        "top_bowlers = df_bowlers_filtered.sort_values(by='Combined_Score', ascending=False).head(4)\n",
        "\n",
        "# Selecting top Batsmen/WK player\n",
        "top_batsmen_wk = df_batsmen_filtered[df_batsmen_filtered['Role'] == 'Batsmen/WK'].head(1)\n",
        "\n",
        "# Selecting top 2 All-rounders\n",
        "top_all_rounders = pd.concat([df_bowlers[df_bowlers['Role_of_player'] == 'All Rounder'],\n",
        "                              df_batsmen[df_batsmen['Role'] == 'All Rounder']]).sort_values(by='Combined_Score', ascending=False).head(2)\n",
        "\n",
        "# Ensuring maximum of 4 overseas players\n",
        "overseas_players_count = (top_batsmen['Nationality_Encoded'] == 0).sum() + \\\n",
        "                         (top_bowlers['Nationality_Encoded'] == 0).sum() + \\\n",
        "                         (top_all_rounders['Nationality_Encoded'] == 0).sum()\n",
        "\n",
        "if overseas_players_count > 4:\n",
        "    # Exclude the lowest ranked overseas player(s)\n",
        "    while overseas_players_count > 4:\n",
        "        lowest_overseas_player_index = all_rounders_df[all_rounders_df['Nationality_Encoded'] == 0].index[-1]\n",
        "        all_rounders_df = all_rounders_df.drop(index=lowest_overseas_player_index)\n",
        "        overseas_players_count -= 1\n",
        "\n",
        "# Selecting final 11 players\n",
        "final_11_players = pd.concat([top_batsmen, top_bowlers, top_batsmen_wk, top_all_rounders])\n",
        "\n",
        "# Removing duplicates, if any\n",
        "final_11_players = final_11_players.drop_duplicates(subset='Player')\n",
        "\n",
        "# Replace NaN values in 'Role' column with 'Bowler' for specific rows\n",
        "final_11_players.loc[final_11_players['Role'].isna(), 'Role'] = 'Bowler'\n",
        "\n",
        "# Filter out players not in the provided list\n",
        "final_11_players = final_11_players[final_11_players['Player'].isin(players_list)]\n",
        "predicted_players_list = final_11_players['Player'].tolist()\n",
        "\n",
        "# Convert predicted_players_list to JSON format\n",
        "\n",
        "\n",
        "# Displaying the final 11 players\n",
        "print(final_11_players[['Player']])\n",
        "print(predicted_players_list)\n"
      ]
    },
    {
      "cell_type": "code",
      "execution_count": 35,
      "metadata": {},
      "outputs": [
        {
          "name": "stdout",
          "output_type": "stream",
          "text": [
            " * Serving Flask app \"_name_\" (lazy loading)\n",
            " * Environment: production\n",
            "   WARNING: This is a development server. Do not use it in a production deployment.\n",
            "   Use a production WSGI server instead.\n",
            " * Debug mode: off\n"
          ]
        },
        {
          "name": "stderr",
          "output_type": "stream",
          "text": [
            " * Running on http://127.0.0.1:5000/ (Press CTRL+C to quit)\n"
          ]
        },
        {
          "name": "stderr",
          "output_type": "stream",
          "text": [
            "127.0.0.1 - - [22/Mar/2024 23:07:34] \"\u001b[37mGET /generate-best-11-players HTTP/1.1\u001b[0m\" 200 -\n",
            "127.0.0.1 - - [22/Mar/2024 23:07:34] \"\u001b[33mGET /images/icons/gear.png HTTP/1.1\u001b[0m\" 404 -\n",
            "127.0.0.1 - - [22/Mar/2024 23:07:38] \"\u001b[37mGET /generate-best-11-players HTTP/1.1\u001b[0m\" 200 -\n",
            "127.0.0.1 - - [22/Mar/2024 23:07:58] \"\u001b[37mGET /generate-best-11-players HTTP/1.1\u001b[0m\" 200 -\n"
          ]
        }
      ],
      "source": [
        "from flask import Flask, jsonify\n",
        "from flask_cors import CORS\n",
        "# from pyngrok import ngrok\n",
        "import os\n",
        "\n",
        "app = Flask('_name_')\n",
        "CORS(app)  # Initialize CORS extension with default options\n",
        "# Replace 'YOUR_AUTHTOKEN' with your actual authtoken\n",
        "# os.environ['NGROK_AUTHTOKEN'] = '2duOeIbYn04i3eCGN9VaNDCQob4_CkdNMA4DxwmzEWWYaJpx'\n",
        "\n",
        "\n",
        "# Step 4: Define endpoint to generate best 11 players\n",
        "@app.route('/generate-best-11-players')\n",
        "def generate_best_11_players():\n",
        "    # Your prediction code here\n",
        "    # This is where you would include the code for generating the best 11 players\n",
        "\n",
        "    # Sample predicted players list\n",
        "    # predicted_players = [\n",
        "    #     \"MS Dhoni\", \"Ambati Rayudu\", \"Hardik Pandya\", \"Moeen Ali\",\n",
        "    #     \"Ravindra Jadeja\", \"Mohit Sharma\", \"Rashid Khan\", \"Deepak Chahar\"\n",
        "    # ]\n",
        "\n",
        "    # Return the predicted list of players as a JSON response\n",
        "    return jsonify({'players': predicted_players_list})\n",
        "\n",
        "# Use Ngrok to expose the Flask app to the internet\n",
        "# public_url = ngrok.connect(port=5000)\n",
        "# print(\"Ngrok Tunnel URL:\", public_url)\n",
        "# %tb\n",
        "\n",
        "\n",
        "# Start the Flask app\n",
        "app.run(debug=False)"
      ]
    },
    {
      "cell_type": "code",
      "execution_count": 13,
      "metadata": {
        "colab": {
          "base_uri": "https://localhost:8080/",
          "height": 668
        },
        "id": "dqYL9iN0uu3L",
        "outputId": "ecb5b2ca-1bfc-49a7-ac41-5efc61203aa5"
      },
      "outputs": [
        {
          "ename": "ConnectionError",
          "evalue": "HTTPConnectionPool(host='127.0.0.1', port=8000): Max retries exceeded with url: /generate-best-11-players/ (Caused by NewConnectionError('<urllib3.connection.HTTPConnection object at 0x7b4221aca590>: Failed to establish a new connection: [Errno 111] Connection refused'))",
          "output_type": "error",
          "traceback": [
            "\u001b[0;31m---------------------------------------------------------------------------\u001b[0m",
            "\u001b[0;31mConnectionRefusedError\u001b[0m                    Traceback (most recent call last)",
            "\u001b[0;32m/usr/local/lib/python3.10/dist-packages/urllib3/connection.py\u001b[0m in \u001b[0;36m_new_conn\u001b[0;34m(self)\u001b[0m\n\u001b[1;32m    202\u001b[0m         \u001b[0;32mtry\u001b[0m\u001b[0;34m:\u001b[0m\u001b[0;34m\u001b[0m\u001b[0;34m\u001b[0m\u001b[0m\n\u001b[0;32m--> 203\u001b[0;31m             sock = connection.create_connection(\n\u001b[0m\u001b[1;32m    204\u001b[0m                 \u001b[0;34m(\u001b[0m\u001b[0mself\u001b[0m\u001b[0;34m.\u001b[0m\u001b[0m_dns_host\u001b[0m\u001b[0;34m,\u001b[0m \u001b[0mself\u001b[0m\u001b[0;34m.\u001b[0m\u001b[0mport\u001b[0m\u001b[0;34m)\u001b[0m\u001b[0;34m,\u001b[0m\u001b[0;34m\u001b[0m\u001b[0;34m\u001b[0m\u001b[0m\n",
            "\u001b[0;32m/usr/local/lib/python3.10/dist-packages/urllib3/util/connection.py\u001b[0m in \u001b[0;36mcreate_connection\u001b[0;34m(address, timeout, source_address, socket_options)\u001b[0m\n\u001b[1;32m     84\u001b[0m         \u001b[0;32mtry\u001b[0m\u001b[0;34m:\u001b[0m\u001b[0;34m\u001b[0m\u001b[0;34m\u001b[0m\u001b[0m\n\u001b[0;32m---> 85\u001b[0;31m             \u001b[0;32mraise\u001b[0m \u001b[0merr\u001b[0m\u001b[0;34m\u001b[0m\u001b[0;34m\u001b[0m\u001b[0m\n\u001b[0m\u001b[1;32m     86\u001b[0m         \u001b[0;32mfinally\u001b[0m\u001b[0;34m:\u001b[0m\u001b[0;34m\u001b[0m\u001b[0;34m\u001b[0m\u001b[0m\n",
            "\u001b[0;32m/usr/local/lib/python3.10/dist-packages/urllib3/util/connection.py\u001b[0m in \u001b[0;36mcreate_connection\u001b[0;34m(address, timeout, source_address, socket_options)\u001b[0m\n\u001b[1;32m     72\u001b[0m                 \u001b[0msock\u001b[0m\u001b[0;34m.\u001b[0m\u001b[0mbind\u001b[0m\u001b[0;34m(\u001b[0m\u001b[0msource_address\u001b[0m\u001b[0;34m)\u001b[0m\u001b[0;34m\u001b[0m\u001b[0;34m\u001b[0m\u001b[0m\n\u001b[0;32m---> 73\u001b[0;31m             \u001b[0msock\u001b[0m\u001b[0;34m.\u001b[0m\u001b[0mconnect\u001b[0m\u001b[0;34m(\u001b[0m\u001b[0msa\u001b[0m\u001b[0;34m)\u001b[0m\u001b[0;34m\u001b[0m\u001b[0;34m\u001b[0m\u001b[0m\n\u001b[0m\u001b[1;32m     74\u001b[0m             \u001b[0;31m# Break explicitly a reference cycle\u001b[0m\u001b[0;34m\u001b[0m\u001b[0;34m\u001b[0m\u001b[0m\n",
            "\u001b[0;31mConnectionRefusedError\u001b[0m: [Errno 111] Connection refused",
            "\nThe above exception was the direct cause of the following exception:\n",
            "\u001b[0;31mNewConnectionError\u001b[0m                        Traceback (most recent call last)",
            "\u001b[0;32m/usr/local/lib/python3.10/dist-packages/urllib3/connectionpool.py\u001b[0m in \u001b[0;36murlopen\u001b[0;34m(self, method, url, body, headers, retries, redirect, assert_same_host, timeout, pool_timeout, release_conn, chunked, body_pos, preload_content, decode_content, **response_kw)\u001b[0m\n\u001b[1;32m    790\u001b[0m             \u001b[0;31m# Make the request on the HTTPConnection object\u001b[0m\u001b[0;34m\u001b[0m\u001b[0;34m\u001b[0m\u001b[0m\n\u001b[0;32m--> 791\u001b[0;31m             response = self._make_request(\n\u001b[0m\u001b[1;32m    792\u001b[0m                 \u001b[0mconn\u001b[0m\u001b[0;34m,\u001b[0m\u001b[0;34m\u001b[0m\u001b[0;34m\u001b[0m\u001b[0m\n",
            "\u001b[0;32m/usr/local/lib/python3.10/dist-packages/urllib3/connectionpool.py\u001b[0m in \u001b[0;36m_make_request\u001b[0;34m(self, conn, method, url, body, headers, retries, timeout, chunked, response_conn, preload_content, decode_content, enforce_content_length)\u001b[0m\n\u001b[1;32m    496\u001b[0m         \u001b[0;32mtry\u001b[0m\u001b[0;34m:\u001b[0m\u001b[0;34m\u001b[0m\u001b[0;34m\u001b[0m\u001b[0m\n\u001b[0;32m--> 497\u001b[0;31m             conn.request(\n\u001b[0m\u001b[1;32m    498\u001b[0m                 \u001b[0mmethod\u001b[0m\u001b[0;34m,\u001b[0m\u001b[0;34m\u001b[0m\u001b[0;34m\u001b[0m\u001b[0m\n",
            "\u001b[0;32m/usr/local/lib/python3.10/dist-packages/urllib3/connection.py\u001b[0m in \u001b[0;36mrequest\u001b[0;34m(self, method, url, body, headers, chunked, preload_content, decode_content, enforce_content_length)\u001b[0m\n\u001b[1;32m    394\u001b[0m             \u001b[0mself\u001b[0m\u001b[0;34m.\u001b[0m\u001b[0mputheader\u001b[0m\u001b[0;34m(\u001b[0m\u001b[0mheader\u001b[0m\u001b[0;34m,\u001b[0m \u001b[0mvalue\u001b[0m\u001b[0;34m)\u001b[0m\u001b[0;34m\u001b[0m\u001b[0;34m\u001b[0m\u001b[0m\n\u001b[0;32m--> 395\u001b[0;31m         \u001b[0mself\u001b[0m\u001b[0;34m.\u001b[0m\u001b[0mendheaders\u001b[0m\u001b[0;34m(\u001b[0m\u001b[0;34m)\u001b[0m\u001b[0;34m\u001b[0m\u001b[0;34m\u001b[0m\u001b[0m\n\u001b[0m\u001b[1;32m    396\u001b[0m \u001b[0;34m\u001b[0m\u001b[0m\n",
            "\u001b[0;32m/usr/lib/python3.10/http/client.py\u001b[0m in \u001b[0;36mendheaders\u001b[0;34m(self, message_body, encode_chunked)\u001b[0m\n\u001b[1;32m   1277\u001b[0m             \u001b[0;32mraise\u001b[0m \u001b[0mCannotSendHeader\u001b[0m\u001b[0;34m(\u001b[0m\u001b[0;34m)\u001b[0m\u001b[0;34m\u001b[0m\u001b[0;34m\u001b[0m\u001b[0m\n\u001b[0;32m-> 1278\u001b[0;31m         \u001b[0mself\u001b[0m\u001b[0;34m.\u001b[0m\u001b[0m_send_output\u001b[0m\u001b[0;34m(\u001b[0m\u001b[0mmessage_body\u001b[0m\u001b[0;34m,\u001b[0m \u001b[0mencode_chunked\u001b[0m\u001b[0;34m=\u001b[0m\u001b[0mencode_chunked\u001b[0m\u001b[0;34m)\u001b[0m\u001b[0;34m\u001b[0m\u001b[0;34m\u001b[0m\u001b[0m\n\u001b[0m\u001b[1;32m   1279\u001b[0m \u001b[0;34m\u001b[0m\u001b[0m\n",
            "\u001b[0;32m/usr/lib/python3.10/http/client.py\u001b[0m in \u001b[0;36m_send_output\u001b[0;34m(self, message_body, encode_chunked)\u001b[0m\n\u001b[1;32m   1037\u001b[0m         \u001b[0;32mdel\u001b[0m \u001b[0mself\u001b[0m\u001b[0;34m.\u001b[0m\u001b[0m_buffer\u001b[0m\u001b[0;34m[\u001b[0m\u001b[0;34m:\u001b[0m\u001b[0;34m]\u001b[0m\u001b[0;34m\u001b[0m\u001b[0;34m\u001b[0m\u001b[0m\n\u001b[0;32m-> 1038\u001b[0;31m         \u001b[0mself\u001b[0m\u001b[0;34m.\u001b[0m\u001b[0msend\u001b[0m\u001b[0;34m(\u001b[0m\u001b[0mmsg\u001b[0m\u001b[0;34m)\u001b[0m\u001b[0;34m\u001b[0m\u001b[0;34m\u001b[0m\u001b[0m\n\u001b[0m\u001b[1;32m   1039\u001b[0m \u001b[0;34m\u001b[0m\u001b[0m\n",
            "\u001b[0;32m/usr/lib/python3.10/http/client.py\u001b[0m in \u001b[0;36msend\u001b[0;34m(self, data)\u001b[0m\n\u001b[1;32m    975\u001b[0m             \u001b[0;32mif\u001b[0m \u001b[0mself\u001b[0m\u001b[0;34m.\u001b[0m\u001b[0mauto_open\u001b[0m\u001b[0;34m:\u001b[0m\u001b[0;34m\u001b[0m\u001b[0;34m\u001b[0m\u001b[0m\n\u001b[0;32m--> 976\u001b[0;31m                 \u001b[0mself\u001b[0m\u001b[0;34m.\u001b[0m\u001b[0mconnect\u001b[0m\u001b[0;34m(\u001b[0m\u001b[0;34m)\u001b[0m\u001b[0;34m\u001b[0m\u001b[0;34m\u001b[0m\u001b[0m\n\u001b[0m\u001b[1;32m    977\u001b[0m             \u001b[0;32melse\u001b[0m\u001b[0;34m:\u001b[0m\u001b[0;34m\u001b[0m\u001b[0;34m\u001b[0m\u001b[0m\n",
            "\u001b[0;32m/usr/local/lib/python3.10/dist-packages/urllib3/connection.py\u001b[0m in \u001b[0;36mconnect\u001b[0;34m(self)\u001b[0m\n\u001b[1;32m    242\u001b[0m     \u001b[0;32mdef\u001b[0m \u001b[0mconnect\u001b[0m\u001b[0;34m(\u001b[0m\u001b[0mself\u001b[0m\u001b[0;34m)\u001b[0m \u001b[0;34m->\u001b[0m \u001b[0;32mNone\u001b[0m\u001b[0;34m:\u001b[0m\u001b[0;34m\u001b[0m\u001b[0;34m\u001b[0m\u001b[0m\n\u001b[0;32m--> 243\u001b[0;31m         \u001b[0mself\u001b[0m\u001b[0;34m.\u001b[0m\u001b[0msock\u001b[0m \u001b[0;34m=\u001b[0m \u001b[0mself\u001b[0m\u001b[0;34m.\u001b[0m\u001b[0m_new_conn\u001b[0m\u001b[0;34m(\u001b[0m\u001b[0;34m)\u001b[0m\u001b[0;34m\u001b[0m\u001b[0;34m\u001b[0m\u001b[0m\n\u001b[0m\u001b[1;32m    244\u001b[0m         \u001b[0;32mif\u001b[0m \u001b[0mself\u001b[0m\u001b[0;34m.\u001b[0m\u001b[0m_tunnel_host\u001b[0m\u001b[0;34m:\u001b[0m\u001b[0;34m\u001b[0m\u001b[0;34m\u001b[0m\u001b[0m\n",
            "\u001b[0;32m/usr/local/lib/python3.10/dist-packages/urllib3/connection.py\u001b[0m in \u001b[0;36m_new_conn\u001b[0;34m(self)\u001b[0m\n\u001b[1;32m    217\u001b[0m         \u001b[0;32mexcept\u001b[0m \u001b[0mOSError\u001b[0m \u001b[0;32mas\u001b[0m \u001b[0me\u001b[0m\u001b[0;34m:\u001b[0m\u001b[0;34m\u001b[0m\u001b[0;34m\u001b[0m\u001b[0m\n\u001b[0;32m--> 218\u001b[0;31m             raise NewConnectionError(\n\u001b[0m\u001b[1;32m    219\u001b[0m                 \u001b[0mself\u001b[0m\u001b[0;34m,\u001b[0m \u001b[0;34mf\"Failed to establish a new connection: {e}\"\u001b[0m\u001b[0;34m\u001b[0m\u001b[0;34m\u001b[0m\u001b[0m\n",
            "\u001b[0;31mNewConnectionError\u001b[0m: <urllib3.connection.HTTPConnection object at 0x7b4221aca590>: Failed to establish a new connection: [Errno 111] Connection refused",
            "\nThe above exception was the direct cause of the following exception:\n",
            "\u001b[0;31mMaxRetryError\u001b[0m                             Traceback (most recent call last)",
            "\u001b[0;32m/usr/local/lib/python3.10/dist-packages/requests/adapters.py\u001b[0m in \u001b[0;36msend\u001b[0;34m(self, request, stream, timeout, verify, cert, proxies)\u001b[0m\n\u001b[1;32m    485\u001b[0m         \u001b[0;32mtry\u001b[0m\u001b[0;34m:\u001b[0m\u001b[0;34m\u001b[0m\u001b[0;34m\u001b[0m\u001b[0m\n\u001b[0;32m--> 486\u001b[0;31m             resp = conn.urlopen(\n\u001b[0m\u001b[1;32m    487\u001b[0m                 \u001b[0mmethod\u001b[0m\u001b[0;34m=\u001b[0m\u001b[0mrequest\u001b[0m\u001b[0;34m.\u001b[0m\u001b[0mmethod\u001b[0m\u001b[0;34m,\u001b[0m\u001b[0;34m\u001b[0m\u001b[0;34m\u001b[0m\u001b[0m\n",
            "\u001b[0;32m/usr/local/lib/python3.10/dist-packages/urllib3/connectionpool.py\u001b[0m in \u001b[0;36murlopen\u001b[0;34m(self, method, url, body, headers, retries, redirect, assert_same_host, timeout, pool_timeout, release_conn, chunked, body_pos, preload_content, decode_content, **response_kw)\u001b[0m\n\u001b[1;32m    844\u001b[0m \u001b[0;34m\u001b[0m\u001b[0m\n\u001b[0;32m--> 845\u001b[0;31m             retries = retries.increment(\n\u001b[0m\u001b[1;32m    846\u001b[0m                 \u001b[0mmethod\u001b[0m\u001b[0;34m,\u001b[0m \u001b[0murl\u001b[0m\u001b[0;34m,\u001b[0m \u001b[0merror\u001b[0m\u001b[0;34m=\u001b[0m\u001b[0mnew_e\u001b[0m\u001b[0;34m,\u001b[0m \u001b[0m_pool\u001b[0m\u001b[0;34m=\u001b[0m\u001b[0mself\u001b[0m\u001b[0;34m,\u001b[0m \u001b[0m_stacktrace\u001b[0m\u001b[0;34m=\u001b[0m\u001b[0msys\u001b[0m\u001b[0;34m.\u001b[0m\u001b[0mexc_info\u001b[0m\u001b[0;34m(\u001b[0m\u001b[0;34m)\u001b[0m\u001b[0;34m[\u001b[0m\u001b[0;36m2\u001b[0m\u001b[0;34m]\u001b[0m\u001b[0;34m\u001b[0m\u001b[0;34m\u001b[0m\u001b[0m\n",
            "\u001b[0;32m/usr/local/lib/python3.10/dist-packages/urllib3/util/retry.py\u001b[0m in \u001b[0;36mincrement\u001b[0;34m(self, method, url, response, error, _pool, _stacktrace)\u001b[0m\n\u001b[1;32m    514\u001b[0m             \u001b[0mreason\u001b[0m \u001b[0;34m=\u001b[0m \u001b[0merror\u001b[0m \u001b[0;32mor\u001b[0m \u001b[0mResponseError\u001b[0m\u001b[0;34m(\u001b[0m\u001b[0mcause\u001b[0m\u001b[0;34m)\u001b[0m\u001b[0;34m\u001b[0m\u001b[0;34m\u001b[0m\u001b[0m\n\u001b[0;32m--> 515\u001b[0;31m             \u001b[0;32mraise\u001b[0m \u001b[0mMaxRetryError\u001b[0m\u001b[0;34m(\u001b[0m\u001b[0m_pool\u001b[0m\u001b[0;34m,\u001b[0m \u001b[0murl\u001b[0m\u001b[0;34m,\u001b[0m \u001b[0mreason\u001b[0m\u001b[0;34m)\u001b[0m \u001b[0;32mfrom\u001b[0m \u001b[0mreason\u001b[0m  \u001b[0;31m# type: ignore[arg-type]\u001b[0m\u001b[0;34m\u001b[0m\u001b[0;34m\u001b[0m\u001b[0m\n\u001b[0m\u001b[1;32m    516\u001b[0m \u001b[0;34m\u001b[0m\u001b[0m\n",
            "\u001b[0;31mMaxRetryError\u001b[0m: HTTPConnectionPool(host='127.0.0.1', port=8000): Max retries exceeded with url: /generate-best-11-players/ (Caused by NewConnectionError('<urllib3.connection.HTTPConnection object at 0x7b4221aca590>: Failed to establish a new connection: [Errno 111] Connection refused'))",
            "\nDuring handling of the above exception, another exception occurred:\n",
            "\u001b[0;31mConnectionError\u001b[0m                           Traceback (most recent call last)",
            "\u001b[0;32m<ipython-input-13-3733b2f92a3a>\u001b[0m in \u001b[0;36m<cell line: 10>\u001b[0;34m()\u001b[0m\n\u001b[1;32m      8\u001b[0m \u001b[0mjson_data\u001b[0m \u001b[0;34m=\u001b[0m \u001b[0mjson\u001b[0m\u001b[0;34m.\u001b[0m\u001b[0mdumps\u001b[0m\u001b[0;34m(\u001b[0m\u001b[0;34m{\u001b[0m\u001b[0;34m'players'\u001b[0m\u001b[0;34m:\u001b[0m \u001b[0mpredicted_players_list\u001b[0m\u001b[0;34m}\u001b[0m\u001b[0;34m)\u001b[0m\u001b[0;34m\u001b[0m\u001b[0;34m\u001b[0m\u001b[0m\n\u001b[1;32m      9\u001b[0m \u001b[0;31m# print(json_data)\u001b[0m\u001b[0;34m\u001b[0m\u001b[0;34m\u001b[0m\u001b[0m\n\u001b[0;32m---> 10\u001b[0;31m \u001b[0mresponse\u001b[0m \u001b[0;34m=\u001b[0m \u001b[0mrequests\u001b[0m\u001b[0;34m.\u001b[0m\u001b[0mpost\u001b[0m\u001b[0;34m(\u001b[0m\u001b[0mendpoint_url\u001b[0m\u001b[0;34m,\u001b[0m \u001b[0mjson\u001b[0m\u001b[0;34m=\u001b[0m\u001b[0mjson_data\u001b[0m\u001b[0;34m)\u001b[0m\u001b[0;34m\u001b[0m\u001b[0;34m\u001b[0m\u001b[0m\n\u001b[0m\u001b[1;32m     11\u001b[0m \u001b[0;34m\u001b[0m\u001b[0m\n\u001b[1;32m     12\u001b[0m \u001b[0;31m# Check if request was successful\u001b[0m\u001b[0;34m\u001b[0m\u001b[0;34m\u001b[0m\u001b[0m\n",
            "\u001b[0;32m/usr/local/lib/python3.10/dist-packages/requests/api.py\u001b[0m in \u001b[0;36mpost\u001b[0;34m(url, data, json, **kwargs)\u001b[0m\n\u001b[1;32m    113\u001b[0m     \"\"\"\n\u001b[1;32m    114\u001b[0m \u001b[0;34m\u001b[0m\u001b[0m\n\u001b[0;32m--> 115\u001b[0;31m     \u001b[0;32mreturn\u001b[0m \u001b[0mrequest\u001b[0m\u001b[0;34m(\u001b[0m\u001b[0;34m\"post\"\u001b[0m\u001b[0;34m,\u001b[0m \u001b[0murl\u001b[0m\u001b[0;34m,\u001b[0m \u001b[0mdata\u001b[0m\u001b[0;34m=\u001b[0m\u001b[0mdata\u001b[0m\u001b[0;34m,\u001b[0m \u001b[0mjson\u001b[0m\u001b[0;34m=\u001b[0m\u001b[0mjson\u001b[0m\u001b[0;34m,\u001b[0m \u001b[0;34m**\u001b[0m\u001b[0mkwargs\u001b[0m\u001b[0;34m)\u001b[0m\u001b[0;34m\u001b[0m\u001b[0;34m\u001b[0m\u001b[0m\n\u001b[0m\u001b[1;32m    116\u001b[0m \u001b[0;34m\u001b[0m\u001b[0m\n\u001b[1;32m    117\u001b[0m \u001b[0;34m\u001b[0m\u001b[0m\n",
            "\u001b[0;32m/usr/local/lib/python3.10/dist-packages/requests/api.py\u001b[0m in \u001b[0;36mrequest\u001b[0;34m(method, url, **kwargs)\u001b[0m\n\u001b[1;32m     57\u001b[0m     \u001b[0;31m# cases, and look like a memory leak in others.\u001b[0m\u001b[0;34m\u001b[0m\u001b[0;34m\u001b[0m\u001b[0m\n\u001b[1;32m     58\u001b[0m     \u001b[0;32mwith\u001b[0m \u001b[0msessions\u001b[0m\u001b[0;34m.\u001b[0m\u001b[0mSession\u001b[0m\u001b[0;34m(\u001b[0m\u001b[0;34m)\u001b[0m \u001b[0;32mas\u001b[0m \u001b[0msession\u001b[0m\u001b[0;34m:\u001b[0m\u001b[0;34m\u001b[0m\u001b[0;34m\u001b[0m\u001b[0m\n\u001b[0;32m---> 59\u001b[0;31m         \u001b[0;32mreturn\u001b[0m \u001b[0msession\u001b[0m\u001b[0;34m.\u001b[0m\u001b[0mrequest\u001b[0m\u001b[0;34m(\u001b[0m\u001b[0mmethod\u001b[0m\u001b[0;34m=\u001b[0m\u001b[0mmethod\u001b[0m\u001b[0;34m,\u001b[0m \u001b[0murl\u001b[0m\u001b[0;34m=\u001b[0m\u001b[0murl\u001b[0m\u001b[0;34m,\u001b[0m \u001b[0;34m**\u001b[0m\u001b[0mkwargs\u001b[0m\u001b[0;34m)\u001b[0m\u001b[0;34m\u001b[0m\u001b[0;34m\u001b[0m\u001b[0m\n\u001b[0m\u001b[1;32m     60\u001b[0m \u001b[0;34m\u001b[0m\u001b[0m\n\u001b[1;32m     61\u001b[0m \u001b[0;34m\u001b[0m\u001b[0m\n",
            "\u001b[0;32m/usr/local/lib/python3.10/dist-packages/requests/sessions.py\u001b[0m in \u001b[0;36mrequest\u001b[0;34m(self, method, url, params, data, headers, cookies, files, auth, timeout, allow_redirects, proxies, hooks, stream, verify, cert, json)\u001b[0m\n\u001b[1;32m    587\u001b[0m         }\n\u001b[1;32m    588\u001b[0m         \u001b[0msend_kwargs\u001b[0m\u001b[0;34m.\u001b[0m\u001b[0mupdate\u001b[0m\u001b[0;34m(\u001b[0m\u001b[0msettings\u001b[0m\u001b[0;34m)\u001b[0m\u001b[0;34m\u001b[0m\u001b[0;34m\u001b[0m\u001b[0m\n\u001b[0;32m--> 589\u001b[0;31m         \u001b[0mresp\u001b[0m \u001b[0;34m=\u001b[0m \u001b[0mself\u001b[0m\u001b[0;34m.\u001b[0m\u001b[0msend\u001b[0m\u001b[0;34m(\u001b[0m\u001b[0mprep\u001b[0m\u001b[0;34m,\u001b[0m \u001b[0;34m**\u001b[0m\u001b[0msend_kwargs\u001b[0m\u001b[0;34m)\u001b[0m\u001b[0;34m\u001b[0m\u001b[0;34m\u001b[0m\u001b[0m\n\u001b[0m\u001b[1;32m    590\u001b[0m \u001b[0;34m\u001b[0m\u001b[0m\n\u001b[1;32m    591\u001b[0m         \u001b[0;32mreturn\u001b[0m \u001b[0mresp\u001b[0m\u001b[0;34m\u001b[0m\u001b[0;34m\u001b[0m\u001b[0m\n",
            "\u001b[0;32m/usr/local/lib/python3.10/dist-packages/requests/sessions.py\u001b[0m in \u001b[0;36msend\u001b[0;34m(self, request, **kwargs)\u001b[0m\n\u001b[1;32m    701\u001b[0m \u001b[0;34m\u001b[0m\u001b[0m\n\u001b[1;32m    702\u001b[0m         \u001b[0;31m# Send the request\u001b[0m\u001b[0;34m\u001b[0m\u001b[0;34m\u001b[0m\u001b[0m\n\u001b[0;32m--> 703\u001b[0;31m         \u001b[0mr\u001b[0m \u001b[0;34m=\u001b[0m \u001b[0madapter\u001b[0m\u001b[0;34m.\u001b[0m\u001b[0msend\u001b[0m\u001b[0;34m(\u001b[0m\u001b[0mrequest\u001b[0m\u001b[0;34m,\u001b[0m \u001b[0;34m**\u001b[0m\u001b[0mkwargs\u001b[0m\u001b[0;34m)\u001b[0m\u001b[0;34m\u001b[0m\u001b[0;34m\u001b[0m\u001b[0m\n\u001b[0m\u001b[1;32m    704\u001b[0m \u001b[0;34m\u001b[0m\u001b[0m\n\u001b[1;32m    705\u001b[0m         \u001b[0;31m# Total elapsed time of the request (approximately)\u001b[0m\u001b[0;34m\u001b[0m\u001b[0;34m\u001b[0m\u001b[0m\n",
            "\u001b[0;32m/usr/local/lib/python3.10/dist-packages/requests/adapters.py\u001b[0m in \u001b[0;36msend\u001b[0;34m(self, request, stream, timeout, verify, cert, proxies)\u001b[0m\n\u001b[1;32m    517\u001b[0m                 \u001b[0;32mraise\u001b[0m \u001b[0mSSLError\u001b[0m\u001b[0;34m(\u001b[0m\u001b[0me\u001b[0m\u001b[0;34m,\u001b[0m \u001b[0mrequest\u001b[0m\u001b[0;34m=\u001b[0m\u001b[0mrequest\u001b[0m\u001b[0;34m)\u001b[0m\u001b[0;34m\u001b[0m\u001b[0;34m\u001b[0m\u001b[0m\n\u001b[1;32m    518\u001b[0m \u001b[0;34m\u001b[0m\u001b[0m\n\u001b[0;32m--> 519\u001b[0;31m             \u001b[0;32mraise\u001b[0m \u001b[0mConnectionError\u001b[0m\u001b[0;34m(\u001b[0m\u001b[0me\u001b[0m\u001b[0;34m,\u001b[0m \u001b[0mrequest\u001b[0m\u001b[0;34m=\u001b[0m\u001b[0mrequest\u001b[0m\u001b[0;34m)\u001b[0m\u001b[0;34m\u001b[0m\u001b[0;34m\u001b[0m\u001b[0m\n\u001b[0m\u001b[1;32m    520\u001b[0m \u001b[0;34m\u001b[0m\u001b[0m\n\u001b[1;32m    521\u001b[0m         \u001b[0;32mexcept\u001b[0m \u001b[0mClosedPoolError\u001b[0m \u001b[0;32mas\u001b[0m \u001b[0me\u001b[0m\u001b[0;34m:\u001b[0m\u001b[0;34m\u001b[0m\u001b[0;34m\u001b[0m\u001b[0m\n",
            "\u001b[0;31mConnectionError\u001b[0m: HTTPConnectionPool(host='127.0.0.1', port=8000): Max retries exceeded with url: /generate-best-11-players/ (Caused by NewConnectionError('<urllib3.connection.HTTPConnection object at 0x7b4221aca590>: Failed to establish a new connection: [Errno 111] Connection refused'))"
          ]
        }
      ],
      "source": [
        "import requests\n",
        "import json\n",
        "\n",
        "json_data = json.dumps({'players': predicted_players_list})\n",
        "# Define the endpoint URL\n",
        "cloud_function_url = 'https://your-project-id.REGION_NAME.cloudfunctions.net/send_data'\n",
        "\n",
        "# Send POST request with JSON data\n",
        "response = requests.post(cloud_function_url, json=json_data)\n",
        "\n",
        "# Check if request was successful\n",
        "if response.status_code == 200:\n",
        "    print('Data sent successfully!')\n",
        "else:\n",
        "    print('Error:', response.status_code)\n"
      ]
    },
    {
      "cell_type": "markdown",
      "metadata": {
        "id": "aYcbfAIss1GO"
      },
      "source": [
        "**Sending the output of GBR to the frontend by creating a flask server**"
      ]
    },
    {
      "cell_type": "code",
      "execution_count": null,
      "metadata": {
        "id": "QdO8x6pGn5ol"
      },
      "outputs": [],
      "source": [
        "!gcloud auth login"
      ]
    },
    {
      "cell_type": "code",
      "execution_count": null,
      "metadata": {
        "id": "I8eurJJyVkNK"
      },
      "outputs": [],
      "source": [
        "import os\n",
        "\n",
        "# Set the environment variable\n",
        "os.environ['CLOUDSDK_CORE_PROJECT'] = 'fantasy-players-prediction'\n",
        "\n",
        "# Replace 'fantasy-players-prediction' with your actual GCP project ID\n",
        "!gcloud services enable cloudfunctions.googleapis.com\n",
        "!pip install google-cloud"
      ]
    },
    {
      "cell_type": "code",
      "execution_count": null,
      "metadata": {
        "id": "9ykoPefpqUMh"
      },
      "outputs": [],
      "source": []
    },
    {
      "cell_type": "code",
      "execution_count": null,
      "metadata": {
        "id": "4oRzHsszoZ45"
      },
      "outputs": [],
      "source": [
        "import pandas as pd\n",
        "from google.cloud import functions\n",
        "from flask import jsonify\n",
        "\n",
        "def generate_data():\n",
        "    \"\"\"Generates the predicted players data in JSON format.\"\"\"\n",
        "    return jsonify({'players': predicted_players_list})\n",
        "\n",
        "def hello_http(request):\n",
        "    \"\"\"HTTP Cloud Function that calls generate_data and returns the result.\"\"\"\n",
        "    return generate_data()\n",
        "\n",
        "# Uncomment these lines for deployment\n",
        "if __name__ == '__main__':\n",
        "    client = functions.Client()\n",
        "    location = client.location_path('your-region')  # Replace with your region\n",
        "    function = client.function(location, 'generate_data')  # Replace with desired function name\n",
        "    function.create(http_trigger=hello_http)\n",
        "    print(f\"Function deployed at: {function.url}\")\n",
        "\n",
        "\n"
      ]
    },
    {
      "cell_type": "code",
      "execution_count": null,
      "metadata": {
        "colab": {
          "base_uri": "https://localhost:8080/"
        },
        "id": "_g9daX5OvwSM",
        "outputId": "773fbf1e-9238-4127-f1d8-cb14fd165f13"
      },
      "outputs": [
        {
          "name": "stdout",
          "output_type": "stream",
          "text": [
            "Requirement already satisfied: flask in /usr/local/lib/python3.10/dist-packages (2.2.5)\n",
            "Requirement already satisfied: Werkzeug>=2.2.2 in /usr/local/lib/python3.10/dist-packages (from flask) (3.0.1)\n",
            "Requirement already satisfied: Jinja2>=3.0 in /usr/local/lib/python3.10/dist-packages (from flask) (3.1.3)\n",
            "Requirement already satisfied: itsdangerous>=2.0 in /usr/local/lib/python3.10/dist-packages (from flask) (2.1.2)\n",
            "Requirement already satisfied: click>=8.0 in /usr/local/lib/python3.10/dist-packages (from flask) (8.1.7)\n",
            "Requirement already satisfied: MarkupSafe>=2.0 in /usr/local/lib/python3.10/dist-packages (from Jinja2>=3.0->flask) (2.1.5)\n",
            "Requirement already satisfied: flask-cors in /usr/local/lib/python3.10/dist-packages (4.0.0)\n",
            "Requirement already satisfied: Flask>=0.9 in /usr/local/lib/python3.10/dist-packages (from flask-cors) (2.2.5)\n",
            "Requirement already satisfied: Werkzeug>=2.2.2 in /usr/local/lib/python3.10/dist-packages (from Flask>=0.9->flask-cors) (3.0.1)\n",
            "Requirement already satisfied: Jinja2>=3.0 in /usr/local/lib/python3.10/dist-packages (from Flask>=0.9->flask-cors) (3.1.3)\n",
            "Requirement already satisfied: itsdangerous>=2.0 in /usr/local/lib/python3.10/dist-packages (from Flask>=0.9->flask-cors) (2.1.2)\n",
            "Requirement already satisfied: click>=8.0 in /usr/local/lib/python3.10/dist-packages (from Flask>=0.9->flask-cors) (8.1.7)\n",
            "Requirement already satisfied: MarkupSafe>=2.0 in /usr/local/lib/python3.10/dist-packages (from Jinja2>=3.0->Flask>=0.9->flask-cors) (2.1.5)\n",
            "Requirement already satisfied: pyngrok in /usr/local/lib/python3.10/dist-packages (7.1.5)\n",
            "Requirement already satisfied: PyYAML>=5.1 in /usr/local/lib/python3.10/dist-packages (from pyngrok) (6.0.1)\n",
            "Requirement already satisfied: pyngrok in /usr/local/lib/python3.10/dist-packages (7.1.5)\n",
            "Requirement already satisfied: PyYAML>=5.1 in /usr/local/lib/python3.10/dist-packages (from pyngrok) (6.0.1)\n"
          ]
        }
      ],
      "source": [
        "!pip install flask\n",
        "!pip install flask-cors\n",
        "!pip install pyngrok\n",
        "!pip install --upgrade pyngrok\n"
      ]
    },
    {
      "cell_type": "code",
      "execution_count": null,
      "metadata": {
        "id": "n-J1RTQA67tT"
      },
      "outputs": [],
      "source": [
        "%%shell\n",
        "touch ngrok.yml"
      ]
    },
    {
      "cell_type": "code",
      "execution_count": null,
      "metadata": {
        "id": "Wki2GJTbGWE0"
      },
      "outputs": [],
      "source": [
        "from flask import Flask, jsonify\n",
        "from flask_cors import CORS\n",
        "from pyngrok import ngrok\n",
        "import os\n",
        "\n",
        "app = Flask('_name_')\n",
        "CORS(app)  # Initialize CORS extension with default options\n",
        "# Replace 'YOUR_AUTHTOKEN' with your actual authtoken\n",
        "# os.environ['NGROK_AUTHTOKEN'] = '2duOeIbYn04i3eCGN9VaNDCQob4_CkdNMA4DxwmzEWWYaJpx'\n",
        "\n",
        "\n",
        "# Step 4: Define endpoint to generate best 11 players\n",
        "@app.route('/generate-best-11-players')\n",
        "def generate_best_11_players():\n",
        "    # Your prediction code here\n",
        "    # This is where you would include the code for generating the best 11 players\n",
        "\n",
        "    # Sample predicted players list\n",
        "    # predicted_players = [\n",
        "    #     \"MS Dhoni\", \"Ambati Rayudu\", \"Hardik Pandya\", \"Moeen Ali\",\n",
        "    #     \"Ravindra Jadeja\", \"Mohit Sharma\", \"Rashid Khan\", \"Deepak Chahar\"\n",
        "    # ]\n",
        "\n",
        "    # Return the predicted list of players as a JSON response\n",
        "    return jsonify({'players': predicted_players_list})"
      ]
    },
    {
      "cell_type": "code",
      "execution_count": null,
      "metadata": {
        "colab": {
          "base_uri": "https://localhost:8080/",
          "height": 463
        },
        "id": "x1BqAjfTs8ec",
        "outputId": "f8cddab2-bf08-4842-c46f-4c4253217755"
      },
      "outputs": [
        {
          "name": "stderr",
          "output_type": "stream",
          "text": [
            "ERROR:pyngrok.process.ngrok:t=2024-03-20T13:58:11+0000 lvl=eror msg=\"failed to reconnect session\" obj=tunnels.session err=\"authentication failed: Usage of ngrok requires a verified account and authtoken.\\n\\nSign up for an account: https://dashboard.ngrok.com/signup\\nInstall your authtoken: https://dashboard.ngrok.com/get-started/your-authtoken\\r\\n\\r\\nERR_NGROK_4018\\r\\n\"\n",
            "ERROR:pyngrok.process.ngrok:t=2024-03-20T13:58:11+0000 lvl=eror msg=\"session closing\" obj=tunnels.session err=\"authentication failed: Usage of ngrok requires a verified account and authtoken.\\n\\nSign up for an account: https://dashboard.ngrok.com/signup\\nInstall your authtoken: https://dashboard.ngrok.com/get-started/your-authtoken\\r\\n\\r\\nERR_NGROK_4018\\r\\n\"\n",
            "ERROR:pyngrok.process.ngrok:t=2024-03-20T13:58:11+0000 lvl=eror msg=\"terminating with error\" obj=app err=\"authentication failed: Usage of ngrok requires a verified account and authtoken.\\n\\nSign up for an account: https://dashboard.ngrok.com/signup\\nInstall your authtoken: https://dashboard.ngrok.com/get-started/your-authtoken\\r\\n\\r\\nERR_NGROK_4018\\r\\n\"\n"
          ]
        },
        {
          "ename": "PyngrokNgrokError",
          "evalue": "The ngrok process errored on start: authentication failed: Usage of ngrok requires a verified account and authtoken.\\n\\nSign up for an account: https://dashboard.ngrok.com/signup\\nInstall your authtoken: https://dashboard.ngrok.com/get-started/your-authtoken\\r\\n\\r\\nERR_NGROK_4018\\r\\n.",
          "output_type": "error",
          "traceback": [
            "\u001b[0;31m---------------------------------------------------------------------------\u001b[0m",
            "\u001b[0;31mPyngrokNgrokError\u001b[0m                         Traceback (most recent call last)",
            "\u001b[0;32m<ipython-input-12-3106954e9363>\u001b[0m in \u001b[0;36m<cell line: 26>\u001b[0;34m()\u001b[0m\n\u001b[1;32m     24\u001b[0m \u001b[0;34m\u001b[0m\u001b[0m\n\u001b[1;32m     25\u001b[0m \u001b[0;31m# Use Ngrok to expose the Flask app to the internet (reads authtoken from config file)\u001b[0m\u001b[0;34m\u001b[0m\u001b[0;34m\u001b[0m\u001b[0m\n\u001b[0;32m---> 26\u001b[0;31m \u001b[0mpublic_url\u001b[0m \u001b[0;34m=\u001b[0m \u001b[0mngrok\u001b[0m\u001b[0;34m.\u001b[0m\u001b[0mconnect\u001b[0m\u001b[0;34m(\u001b[0m\u001b[0mconfig_path\u001b[0m\u001b[0;34m=\u001b[0m\u001b[0;34m'/ngrok.yml'\u001b[0m\u001b[0;34m)\u001b[0m\u001b[0;34m\u001b[0m\u001b[0;34m\u001b[0m\u001b[0m\n\u001b[0m\u001b[1;32m     27\u001b[0m \u001b[0mprint\u001b[0m\u001b[0;34m(\u001b[0m\u001b[0;34m\"Ngrok Tunnel URL:\"\u001b[0m\u001b[0;34m,\u001b[0m \u001b[0mpublic_url\u001b[0m\u001b[0;34m)\u001b[0m\u001b[0;34m\u001b[0m\u001b[0;34m\u001b[0m\u001b[0m\n\u001b[1;32m     28\u001b[0m \u001b[0;34m\u001b[0m\u001b[0m\n",
            "\u001b[0;32m/usr/local/lib/python3.10/dist-packages/pyngrok/ngrok.py\u001b[0m in \u001b[0;36mconnect\u001b[0;34m(addr, proto, name, pyngrok_config, **options)\u001b[0m\n\u001b[1;32m    314\u001b[0m             \u001b[0moptions\u001b[0m\u001b[0;34m.\u001b[0m\u001b[0mpop\u001b[0m\u001b[0;34m(\u001b[0m\u001b[0;34m\"auth\"\u001b[0m\u001b[0;34m)\u001b[0m\u001b[0;34m\u001b[0m\u001b[0;34m\u001b[0m\u001b[0m\n\u001b[1;32m    315\u001b[0m \u001b[0;34m\u001b[0m\u001b[0m\n\u001b[0;32m--> 316\u001b[0;31m     \u001b[0mapi_url\u001b[0m \u001b[0;34m=\u001b[0m \u001b[0mget_ngrok_process\u001b[0m\u001b[0;34m(\u001b[0m\u001b[0mpyngrok_config\u001b[0m\u001b[0;34m)\u001b[0m\u001b[0;34m.\u001b[0m\u001b[0mapi_url\u001b[0m\u001b[0;34m\u001b[0m\u001b[0;34m\u001b[0m\u001b[0m\n\u001b[0m\u001b[1;32m    317\u001b[0m \u001b[0;34m\u001b[0m\u001b[0m\n\u001b[1;32m    318\u001b[0m     \u001b[0mlogger\u001b[0m\u001b[0;34m.\u001b[0m\u001b[0mdebug\u001b[0m\u001b[0;34m(\u001b[0m\u001b[0;34mf\"Creating tunnel with options: {options}\"\u001b[0m\u001b[0;34m)\u001b[0m\u001b[0;34m\u001b[0m\u001b[0;34m\u001b[0m\u001b[0m\n",
            "\u001b[0;32m/usr/local/lib/python3.10/dist-packages/pyngrok/ngrok.py\u001b[0m in \u001b[0;36mget_ngrok_process\u001b[0;34m(pyngrok_config)\u001b[0m\n\u001b[1;32m    154\u001b[0m     \u001b[0minstall_ngrok\u001b[0m\u001b[0;34m(\u001b[0m\u001b[0mpyngrok_config\u001b[0m\u001b[0;34m)\u001b[0m\u001b[0;34m\u001b[0m\u001b[0;34m\u001b[0m\u001b[0m\n\u001b[1;32m    155\u001b[0m \u001b[0;34m\u001b[0m\u001b[0m\n\u001b[0;32m--> 156\u001b[0;31m     \u001b[0;32mreturn\u001b[0m \u001b[0mprocess\u001b[0m\u001b[0;34m.\u001b[0m\u001b[0mget_process\u001b[0m\u001b[0;34m(\u001b[0m\u001b[0mpyngrok_config\u001b[0m\u001b[0;34m)\u001b[0m\u001b[0;34m\u001b[0m\u001b[0;34m\u001b[0m\u001b[0m\n\u001b[0m\u001b[1;32m    157\u001b[0m \u001b[0;34m\u001b[0m\u001b[0m\n\u001b[1;32m    158\u001b[0m \u001b[0;34m\u001b[0m\u001b[0m\n",
            "\u001b[0;32m/usr/local/lib/python3.10/dist-packages/pyngrok/process.py\u001b[0m in \u001b[0;36mget_process\u001b[0;34m(pyngrok_config)\u001b[0m\n\u001b[1;32m    233\u001b[0m         \u001b[0;32mreturn\u001b[0m \u001b[0m_current_processes\u001b[0m\u001b[0;34m[\u001b[0m\u001b[0mpyngrok_config\u001b[0m\u001b[0;34m.\u001b[0m\u001b[0mngrok_path\u001b[0m\u001b[0;34m]\u001b[0m\u001b[0;34m\u001b[0m\u001b[0;34m\u001b[0m\u001b[0m\n\u001b[1;32m    234\u001b[0m \u001b[0;34m\u001b[0m\u001b[0m\n\u001b[0;32m--> 235\u001b[0;31m     \u001b[0;32mreturn\u001b[0m \u001b[0m_start_process\u001b[0m\u001b[0;34m(\u001b[0m\u001b[0mpyngrok_config\u001b[0m\u001b[0;34m)\u001b[0m\u001b[0;34m\u001b[0m\u001b[0;34m\u001b[0m\u001b[0m\n\u001b[0m\u001b[1;32m    236\u001b[0m \u001b[0;34m\u001b[0m\u001b[0m\n\u001b[1;32m    237\u001b[0m \u001b[0;34m\u001b[0m\u001b[0m\n",
            "\u001b[0;32m/usr/local/lib/python3.10/dist-packages/pyngrok/process.py\u001b[0m in \u001b[0;36m_start_process\u001b[0;34m(pyngrok_config)\u001b[0m\n\u001b[1;32m    396\u001b[0m \u001b[0;34m\u001b[0m\u001b[0m\n\u001b[1;32m    397\u001b[0m         \u001b[0;32mif\u001b[0m \u001b[0mngrok_process\u001b[0m\u001b[0;34m.\u001b[0m\u001b[0mstartup_error\u001b[0m \u001b[0;32mis\u001b[0m \u001b[0;32mnot\u001b[0m \u001b[0;32mNone\u001b[0m\u001b[0;34m:\u001b[0m\u001b[0;34m\u001b[0m\u001b[0;34m\u001b[0m\u001b[0m\n\u001b[0;32m--> 398\u001b[0;31m             raise PyngrokNgrokError(f\"The ngrok process errored on start: {ngrok_process.startup_error}.\",\n\u001b[0m\u001b[1;32m    399\u001b[0m                                     \u001b[0mngrok_process\u001b[0m\u001b[0;34m.\u001b[0m\u001b[0mlogs\u001b[0m\u001b[0;34m,\u001b[0m\u001b[0;34m\u001b[0m\u001b[0;34m\u001b[0m\u001b[0m\n\u001b[1;32m    400\u001b[0m                                     ngrok_process.startup_error)\n",
            "\u001b[0;31mPyngrokNgrokError\u001b[0m: The ngrok process errored on start: authentication failed: Usage of ngrok requires a verified account and authtoken.\\n\\nSign up for an account: https://dashboard.ngrok.com/signup\\nInstall your authtoken: https://dashboard.ngrok.com/get-started/your-authtoken\\r\\n\\r\\nERR_NGROK_4018\\r\\n."
          ]
        }
      ],
      "source": [
        "from flask import Flask, jsonify\n",
        "from flask_cors import CORS\n",
        "from pyngrok import ngrok\n",
        "import os\n",
        "# del os.environ['NGROK_AUTHTOKEN']\n",
        "\n",
        "app = Flask(__name__)\n",
        "CORS(app)  # Initialize CORS extension with default options\n",
        "\n",
        "# Step 4: Define endpoint to generate best 11 players\n",
        "@app.route('/generate-best-11-players')\n",
        "def generate_best_11_players():\n",
        "    # Your prediction code here\n",
        "    # This is where you would include the code for generating the best 11 players\n",
        "\n",
        "    # Sample predicted players list\n",
        "    # predicted_players = [\n",
        "    #     \"MS Dhoni\", \"Ambati Rayudu\", \"Hardik Pandya\", \"Moeen Ali\",\n",
        "    #     \"Ravindra Jadeja\", \"Mohit Sharma\", \"Rashid Khan\", \"Deepak Chahar\"\n",
        "    # ]\n",
        "\n",
        "    # Return the predicted list of players as a JSON response\n",
        "    return jsonify({'players': predicted_players_list})\n",
        "\n",
        "# Use Ngrok to expose the Flask app to the internet (reads authtoken from config file)\n",
        "public_url = ngrok.connect(config_path='/ngrok.yml')\n",
        "print(\"Ngrok Tunnel URL:\", public_url)\n",
        "\n",
        "# Start the Flask app\n",
        "app.run()\n"
      ]
    },
    {
      "cell_type": "markdown",
      "metadata": {
        "id": "D3b7sGyl4GZR"
      },
      "source": [
        "**Use Random Forest**"
      ]
    },
    {
      "cell_type": "markdown",
      "metadata": {
        "id": "UpAVQMfj4fb5"
      },
      "source": [
        "For batsmen"
      ]
    },
    {
      "cell_type": "code",
      "execution_count": null,
      "metadata": {
        "id": "_iyqVPXO4NY5"
      },
      "outputs": [],
      "source": [
        "import pandas as pd\n",
        "from sklearn.ensemble import RandomForestRegressor\n",
        "\n",
        "# Load the batsmen dataset\n",
        "df_batsmen = pd.read_csv(\"Batsmen dataset.csv\")\n",
        "\n",
        "# Assuming df_batsmen is your DataFrame with batsmen stats\n",
        "\n",
        "# Features (X): All columns except 'Avg', 'SR', 'Player', 'Team', 'Role', and 'Nationality'\n",
        "X_batsmen = df_batsmen.drop(columns=['Avg', 'SR', 'Player', 'Team', 'Role', 'Nationality'])\n",
        "\n",
        "# Target variable for average (y): 'Avg'\n",
        "y_avg = df_batsmen['Avg']\n",
        "\n",
        "# Initialize the Random Forest Regressor\n",
        "model_rf_avg = RandomForestRegressor()\n",
        "\n",
        "# Train the model\n",
        "model_rf_avg.fit(X_batsmen, y_avg)\n",
        "\n",
        "# Make predictions\n",
        "df_batsmen['Predicted_Avg_RF'] = model_rf_avg.predict(X_batsmen)\n",
        "\n",
        "# Display the predictions\n",
        "print(df_batsmen[['Player', 'Predicted_Avg_RF']])\n"
      ]
    },
    {
      "cell_type": "markdown",
      "metadata": {
        "id": "qHhPtxMB4hsJ"
      },
      "source": [
        "For bowlers"
      ]
    },
    {
      "cell_type": "code",
      "execution_count": null,
      "metadata": {
        "id": "1npn238_4jQL"
      },
      "outputs": [],
      "source": [
        "import pandas as pd\n",
        "from sklearn.ensemble import RandomForestRegressor\n",
        "from sklearn.preprocessing import LabelEncoder\n",
        "\n",
        "# Load the bowler dataset\n",
        "df_bowlers = pd.read_csv(\"Bowler dataset.csv\")\n",
        "\n",
        "# Encode categorical features\n",
        "label_encoder = LabelEncoder()\n",
        "df_bowlers['Role_Encoded'] = label_encoder.fit_transform(df_bowlers['Role_of_player'])\n",
        "df_bowlers['Nationality_Encoded'] = label_encoder.fit_transform(df_bowlers['Nationality'])\n",
        "\n",
        "# Features (X): All columns except 'Econ', 'Wkts', 'Player', 'Team', 'Role_of_player', 'Nationality'\n",
        "X_bowlers = df_bowlers.drop(columns=['Econ', 'Wkts', 'Player', 'Team', 'Role_of_player', 'Nationality'])\n",
        "\n",
        "# Target variable for economy (y): 'Econ'\n",
        "y_econ = df_bowlers['Econ']\n",
        "\n",
        "# Initialize the Random Forest Regressor\n",
        "model_rf_econ = RandomForestRegressor()\n",
        "\n",
        "# Train the model\n",
        "model_rf_econ.fit(X_bowlers, y_econ)\n",
        "\n",
        "# Make predictions\n",
        "df_bowlers['Predicted_Econ_RF'] = model_rf_econ.predict(X_bowlers)\n",
        "\n",
        "# Display the predictions\n",
        "print(df_bowlers[['Player', 'Predicted_Econ_RF']])\n"
      ]
    },
    {
      "cell_type": "markdown",
      "metadata": {
        "id": "nw5JDuA46XUg"
      },
      "source": [
        "Shift output to relevant files\n"
      ]
    },
    {
      "cell_type": "code",
      "execution_count": null,
      "metadata": {
        "id": "2PAT-dU66SjE"
      },
      "outputs": [],
      "source": [
        "df_bowlers.to_csv(\"Bowlers Random Forest.csv\", index=False)"
      ]
    },
    {
      "cell_type": "code",
      "execution_count": null,
      "metadata": {
        "id": "S4ZqqhfY6guG"
      },
      "outputs": [],
      "source": [
        "df_batsmen.to_csv(\"Batsmen Random Forest.csv\", index=False)"
      ]
    },
    {
      "cell_type": "code",
      "execution_count": null,
      "metadata": {
        "id": "DCvQ_ktB63rt"
      },
      "outputs": [],
      "source": [
        "import pandas as pd\n",
        "\n",
        "players_list = [\n",
        "    \"Wriddhiman Saha\", \"Shubman Gill\", \"Sai Sudharshan\", \"Hardik Pandya\",\n",
        "    \"Rashid Khan\", \"Vijay Shankar\", \"David Miller\", \"Rahul Tewatia\",\n",
        "    \"Mohit Sharma\", \"Noor Ahmad\", \"Mohammed Shami\", \"Ruturaj Gaikwad\",\n",
        "    \"Devon Conway\", \"Shivam Dube\", \"Ajinkya Rahane\", \"Ambati Rayudu\",\n",
        "    \"MS Dhoni\", \"Ravindra Jadeja\", \"Moeen Ali\", \"Deepak Chahar\",\n",
        "    \"Tushar Deshpande\", \"Maheesh Theekshana\"\n",
        "]\n",
        "\n",
        "# Assuming your CSV file is named 'bowlers_dataset.csv'\n",
        "file_path_bowlers = 'Bowlers Random Forest.csv'\n",
        "# Assuming your CSV file is named 'batsmen_dataset.csv'\n",
        "file_path_batsmen = 'Batsmen Random Forest.csv'\n",
        "\n",
        "# Read the CSV file into DataFrames\n",
        "df_bowlers = pd.read_csv(file_path_bowlers)\n",
        "df_batsmen = pd.read_csv(file_path_batsmen)\n",
        "\n",
        "# Replace missing values in 'Role' column with 'Bowler' for bowlers\n",
        "df_bowlers['Role_of_player'].fillna('Bowler', inplace=True)\n",
        "\n",
        "# Replace missing values in 'Role' column with 'Unknown' for batsmen\n",
        "df_batsmen['Role'].fillna('Unknown', inplace=True)\n",
        "\n",
        "# Selecting only the players from the list of 22 players\n",
        "df_bowlers_filtered = df_bowlers[df_bowlers['Player'].isin(players_list)]\n",
        "df_batsmen_filtered = df_batsmen[df_batsmen['Player'].isin(players_list)]\n",
        "\n",
        "# Selecting top 3 batsmen, 3 bowlers, and 1 wicket-keeper\n",
        "top_batsmen = df_batsmen_filtered[df_batsmen_filtered['Role'] == 'Batsmen'].head(4)\n",
        "top_bowlers = df_bowlers_filtered[df_bowlers_filtered['Role_of_player'] == 'Bowler'].head(3)\n",
        "top_wicket_keeper = df_batsmen_filtered[df_batsmen_filtered['Role'] == 'Batsmen/WK'].head(1)\n",
        "\n",
        "# Combine the selected players\n",
        "final_players = pd.concat([top_batsmen, top_bowlers, top_wicket_keeper])\n",
        "\n",
        "# Displaying the final 7 players\n",
        "print(final_players[['Player']])"
      ]
    },
    {
      "cell_type": "markdown",
      "metadata": {
        "id": "GMD49zeBmccB"
      },
      "source": [
        "**Arrange Batsmen of CSK vs GT Match**"
      ]
    },
    {
      "cell_type": "code",
      "execution_count": null,
      "metadata": {
        "id": "PUGTGwiMk59I"
      },
      "outputs": [],
      "source": [
        "import pandas as pd\n",
        "\n",
        "# Assuming 'batsmen_stats.csv' is the name of your spreadsheet file\n",
        "file_path = 'GT_CSK_bat.csv'\n",
        "\n",
        "# Read the CSV file into a DataFrame\n",
        "batsmen_df = pd.read_csv(file_path)\n",
        "\n",
        "# Sort the DataFrame based on 'Runs' column in descending order, then 'Strike Rate' column in descending order\n",
        "sorted_batsmen_df = batsmen_df.sort_values(by=['R', 'SR'], ascending=[False, False])\n",
        "\n",
        "# Display the sorted DataFrame\n",
        "print(sorted_batsmen_df.head)\n"
      ]
    },
    {
      "cell_type": "markdown",
      "metadata": {
        "id": "ZWjHJTR3mfHy"
      },
      "source": [
        "**Arrange Bowlers of CSK vs GT Match**"
      ]
    },
    {
      "cell_type": "code",
      "execution_count": null,
      "metadata": {
        "id": "yzGUHXTEmbes"
      },
      "outputs": [],
      "source": [
        "import pandas as pd\n",
        "\n",
        "# Assuming 'bowler_stats.csv' is the name of your spreadsheet file\n",
        "file_path = 'GT_CSK_ball.csv'\n",
        "\n",
        "# Read the CSV file into a DataFrame\n",
        "bowler_df = pd.read_csv(file_path)\n",
        "\n",
        "# Sort the DataFrame based on 'Wkts' column in descending order, then 'Econ' column in ascending order\n",
        "sorted_bowler_df = bowler_df.sort_values(by=['W', 'ECON'], ascending=[False, True])\n",
        "\n",
        "# Display the sorted DataFrame\n",
        "print(sorted_bowler_df)\n"
      ]
    },
    {
      "cell_type": "markdown",
      "metadata": {
        "id": "Yb8sr_sFpq4g"
      },
      "source": [
        "Compare using GBR"
      ]
    },
    {
      "cell_type": "code",
      "execution_count": null,
      "metadata": {
        "id": "VrGP9AQ3pnY6"
      },
      "outputs": [],
      "source": [
        "import pandas as pd\n",
        "\n",
        "# Assuming df1 and df2 are your two dataframes\n",
        "\n",
        "# Merge the two dataframes\n",
        "merged_df1 = pd.merge(final_11_players, sorted_batsmen_df, how='inner', on='Player')\n",
        "merged_df2 = pd.merge(final_11_players, sorted_bowler_df, how='inner', on='Player')\n",
        "\n",
        "# Count the number of rows in the merged dataframe\n",
        "count_same_values = len(merged_df1) + len(merged_df2)\n",
        "\n",
        "concatenated_df = pd.concat([merged_df1, merged_df2])\n",
        "\n",
        "# Count the number of unique players\n",
        "unique_players_count = concatenated_df['Player'].nunique()\n",
        "\n",
        "print(\"Number of unique players present in both dataframes:\", unique_players_count)\n"
      ]
    },
    {
      "cell_type": "markdown",
      "metadata": {
        "id": "hFrHO4j3q2YK"
      },
      "source": [
        "Compare using RF\n"
      ]
    },
    {
      "cell_type": "code",
      "execution_count": null,
      "metadata": {
        "id": "nOJyxRPXq164"
      },
      "outputs": [],
      "source": [
        "import pandas as pd\n",
        "\n",
        "# Assuming df1 and df2 are your two dataframes\n",
        "\n",
        "# Merge the two dataframes\n",
        "merged_df1 = pd.merge(final_players, sorted_batsmen_df, how='inner', on='Player')\n",
        "merged_df2 = pd.merge(final_players, sorted_bowler_df, how='inner', on='Player')\n",
        "\n",
        "# Count the number of rows in the merged dataframe\n",
        "count_same_values = len(merged_df1) + len(merged_df2)\n",
        "\n",
        "concatenated_bowlers_df = pd.concat([merged_df1, merged_df2])\n",
        "\n",
        "# Count the number of unique players\n",
        "unique_bowlers_count = concatenated_bowlers_df['Player'].nunique()\n",
        "\n",
        "print(\"Number of unique bowlers present in both dataframes:\", unique_bowlers_count)"
      ]
    }
  ],
  "metadata": {
    "colab": {
      "provenance": []
    },
    "kernelspec": {
      "display_name": "Python 3",
      "name": "python3"
    },
    "language_info": {
      "codemirror_mode": {
        "name": "ipython",
        "version": 3
      },
      "file_extension": ".py",
      "mimetype": "text/x-python",
      "name": "python",
      "nbconvert_exporter": "python",
      "pygments_lexer": "ipython3",
      "version": "3.9.6"
    }
  },
  "nbformat": 4,
  "nbformat_minor": 0
}
