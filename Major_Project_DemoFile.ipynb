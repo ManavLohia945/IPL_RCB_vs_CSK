{
  "cells": [
    {
      "cell_type": "markdown",
      "metadata": {
        "id": "sN3CBg8hB2_U"
      },
      "source": [
        "**Loading Bowlers dataset**"
      ]
    },
    {
      "cell_type": "code",
      "execution_count": 1,
      "metadata": {
        "colab": {
          "base_uri": "https://localhost:8080/"
        },
        "id": "whYRCcH870WZ",
        "outputId": "25398ee7-fc8a-4ba5-8fc2-d1f8494c392c"
      },
      "outputs": [
        {
          "name": "stdout",
          "output_type": "stream",
          "text": [
            "            Player Team Role_of_player    Nationality  Mat  Inns    Ov  Runs  \\\n",
            "0      Abdul Samad  SRH    All Rounder  Indian origin   23     4   8.0   105   \n",
            "1   Abhishek Nayar  CSK         Bowler  Indian origin    4     1   1.0    16   \n",
            "2  Abhishek Sharma  SRH    All Rounder  Indian origin   19    14  22.0   176   \n",
            "3       Adam Milne  CSK    All Rounder       Overseas    9     9  32.0   308   \n",
            "4       Adam Zampa  RCB    All Rounder       Overseas   14    14  47.5   370   \n",
            "\n",
            "   Wkts        Avg       Econ         SR  \n",
            "0     2  52.500000  11.355000  24.000000  \n",
            "1     0   0.000000  16.000000   0.000000  \n",
            "2     7  27.500000   8.666667  19.000000  \n",
            "3     7  43.773333   9.890000  26.666667  \n",
            "4    21  26.286667   7.776667  19.500000  \n"
          ]
        }
      ],
      "source": [
        "import pandas as pd\n",
        "\n",
        "# Assuming your CSV file is named 'bowlers_dataset.csv'\n",
        "file_path = 'Bowler dataset.csv'\n",
        "\n",
        "# Read the CSV file into a DataFrame\n",
        "df = pd.read_csv(file_path)\n",
        "df = df.rename(columns={'Role': 'Role_of_player'})\n",
        "df.columns = df.columns.str.strip()\n",
        "\n",
        "# Display the first few rows of the DataFrame to check the structure\n",
        "print(df.head())\n",
        "\n",
        "# for column in df.columns:\n",
        "#     print(column)"
      ]
    },
    {
      "cell_type": "markdown",
      "metadata": {
        "id": "MjtzG8xQB9LE"
      },
      "source": [
        "**Converting to numerical values (One-hot label encoding)**"
      ]
    },
    {
      "cell_type": "code",
      "execution_count": 2,
      "metadata": {
        "colab": {
          "base_uri": "https://localhost:8080/"
        },
        "id": "B9h8ZFoLQOvt",
        "outputId": "aabae91f-89fc-4e7e-e278-80aa86b088ff"
      },
      "outputs": [
        {
          "name": "stdout",
          "output_type": "stream",
          "text": [
            "                  Player  Role_Encoded  Nationality_Encoded  Team     Ov  \\\n",
            "48          Dwayne Bravo             1                    0   CSK  429.8   \n",
            "11           Amit Mishra             0                    1    DC  492.7   \n",
            "135  Ravichandran Ashwin             0                    1    RR  581.8   \n",
            "181     Yuzvendra Chahal             0                    1    RR  407.2   \n",
            "25     Bhuvneshwar Kumar             0                    1   SRH  451.9   \n",
            "..                   ...           ...                  ...   ...    ...   \n",
            "58             Ish Sodhi             1                    0    RR   30.1   \n",
            "177          Virat Kohli             1                    1   RCB   41.1   \n",
            "55         Harpreet Brar             1                    1  PBKS   32.0   \n",
            "66          Jayant Yadav             0                    1    DC   61.0   \n",
            "161         Suresh Raina             0                    1   CSK   35.0   \n",
            "\n",
            "     Predicted_Econ  Predicted_Wkts  Combined_Score  \n",
            "48         8.278557      151.978321       51.388486  \n",
            "11         7.386279      152.974395       51.062714  \n",
            "135        6.636086      144.982616       48.140045  \n",
            "181        7.715491      138.984310       47.096136  \n",
            "25         7.202603      133.999595       45.241701  \n",
            "..              ...             ...             ...  \n",
            "58         7.596343        8.999321        8.017237  \n",
            "177        9.691509        4.009574        7.986929  \n",
            "55         8.638098        4.992622        7.544455  \n",
            "66         6.571829        8.008262        7.002758  \n",
            "161        7.616105        2.999888        6.231240  \n",
            "\n",
            "[104 rows x 8 columns]\n"
          ]
        }
      ],
      "source": [
        "import pandas as pd\n",
        "from sklearn.ensemble import GradientBoostingRegressor\n",
        "\n",
        "# Assuming df is your DataFrame with bowler stats\n",
        "\n",
        "# Define functions to map categories to numerical values\n",
        "def encode_role(role):\n",
        "    if role == 'Bowler':\n",
        "        return 0\n",
        "    elif role == 'All Rounder':\n",
        "        return 1\n",
        "    else:\n",
        "        return -1  # Add a default value for unexpected roles\n",
        "\n",
        "def encode_nationality(nationality):\n",
        "    if nationality == 'Overseas':\n",
        "        return 0\n",
        "    elif nationality == 'Indian origin':\n",
        "        return 1\n",
        "    else:\n",
        "        return -1  # Add a default value for unexpected nationalities\n",
        "\n",
        "# Handle missing values (example)\n",
        "df['Role_of_player'].fillna('Unknown', inplace=True)\n",
        "\n",
        "# Apply the encoding functions\n",
        "df['Role_Encoded'] = df['Role_of_player'].apply(encode_role)\n",
        "df['Nationality_Encoded'] = df['Nationality'].apply(encode_nationality)\n",
        "\n",
        "# Features (X): All columns except 'Player', 'Team', and original categorical columns\n",
        "X = df.drop(columns=['Player', 'Team', 'Role_of_player', 'Nationality'])\n",
        "\n",
        "# Target variables (y): 'Econ' and 'Wkts'\n",
        "y_econ = df['Econ']\n",
        "y_wkts = df['Wkts']\n",
        "\n",
        "# Initialize the Gradient Boosting Regressor for economy\n",
        "model_econ = GradientBoostingRegressor()\n",
        "# Train the model for economy\n",
        "model_econ.fit(X, y_econ)\n",
        "# Make predictions for all players' economy\n",
        "df['Predicted_Econ'] = model_econ.predict(X)\n",
        "\n",
        "# Initialize the Gradient Boosting Regressor for wickets\n",
        "model_wkts = GradientBoostingRegressor()\n",
        "# Train the model for wickets\n",
        "model_wkts.fit(X, y_wkts)\n",
        "# Make predictions for all players' wickets\n",
        "df['Predicted_Wkts'] = model_wkts.predict(X)\n",
        "\n",
        "# Combine both predictions with weights (adjust weights as needed)\n",
        "weight_econ = 0.7\n",
        "weight_wkts = 0.3\n",
        "df['Combined_Score'] = (weight_econ * df['Predicted_Econ']) + (weight_wkts * df['Predicted_Wkts'])\n",
        "\n",
        "# Filter players who have bowled over 50 overs\n",
        "df_filtered = df[df['Ov'] > 30]\n",
        "\n",
        "# Sort the filtered DataFrame based on the combined score in descending order\n",
        "df_bowlers_sorted = df_filtered.sort_values(by='Combined_Score', ascending=False)\n",
        "\n",
        "# Display the sorted DataFrame\n",
        "# print(df_bowlers_sorted['Role_Encoded'])\n",
        "print(df_bowlers_sorted[['Player', 'Role_Encoded', 'Nationality_Encoded', 'Team', 'Ov', 'Predicted_Econ', 'Predicted_Wkts', 'Combined_Score']])\n",
        "\n"
      ]
    },
    {
      "cell_type": "code",
      "execution_count": 3,
      "metadata": {
        "id": "O_fYArcVcatG"
      },
      "outputs": [],
      "source": [
        "df_bowlers_sorted.to_csv(\"Bowlers Updated DataSet with Combined Score.csv\", index=False)"
      ]
    },
    {
      "cell_type": "markdown",
      "metadata": {
        "id": "orvZPf3aCDwq"
      },
      "source": [
        "**Loading Batsmen Dataset**"
      ]
    },
    {
      "cell_type": "code",
      "execution_count": 4,
      "metadata": {
        "colab": {
          "base_uri": "https://localhost:8080/"
        },
        "id": "18DfRBH3D2cj",
        "outputId": "5374debc-610a-4f90-ee87-ec48cb66364c"
      },
      "outputs": [
        {
          "name": "stdout",
          "output_type": "stream",
          "text": [
            "           Player  Team         Role    Nationality  Mat  Inns  Runs  \\\n",
            "0     Virat Kohli   RCB      Batsmen  Indian origin  159   158  5366   \n",
            "1    Rohit Sharma    MI      Batsmen  Indian origin  164   160  4412   \n",
            "2        MS Dhoni   CSK   Batsmen/WK  Indian origin  174   152  3769   \n",
            "3    David Warner    DC  All Rounder       Overseas  124   124  4748   \n",
            "4  Shikhar Dhawan  PBKS      Batsmen  Indian origin  162   162  4984   \n",
            "5    Sanju Samson    RR   Batsmen/WK  Indian origin  121   117  3068   \n",
            "6    Rishabh Pant    DC   Batsmen/WK  Indian origin   84    84  2498   \n",
            "7   Andre Russell   KKR  All Rounder       Overseas   84    70  1700   \n",
            "8        KL Rahul   LSG   Batsmen/WK  Indian origin   94    85  3273   \n",
            "9   Ambati Rayudu   CSK      Batsmen  Indian origin  109   102  2567   \n",
            "\n",
            "         Avg          SR  50   4s   6s  Role_Encoded  Nationality_Encoded  \\\n",
            "0  40.425455  128.494545  38  465  181             0                    1   \n",
            "1  31.937273  131.835454  33  394  177             0                    1   \n",
            "2  45.390000  134.982727  18  251  193             1                    1   \n",
            "3  44.358889  135.680000  47  454  168             2                    0   \n",
            "4  36.156364  126.809091  37  570  103             0                    1   \n",
            "5  29.012222  133.433333  15  236  132             1                    1   \n",
            "6  34.520000  145.766667  15  225  113             1                    1   \n",
            "7  24.176667  147.630000   9  119  143             2                    0   \n",
            "8  41.312500  130.915000  27  282  134             1                    1   \n",
            "9  30.061250  128.681250  13  203  109             0                    1   \n",
            "\n",
            "   Predicted_Avg  Predicted_SR  Combined_Score  \n",
            "0      54.648870    129.429954       77.083195  \n",
            "1      50.840579    130.902634       74.859195  \n",
            "2      48.811920    132.501875       73.918906  \n",
            "3      46.150635    134.311104       72.598776  \n",
            "4      43.510648    128.038154       68.868899  \n",
            "5      40.299001    131.472545       67.651064  \n",
            "6      32.784030    141.191897       65.306390  \n",
            "7      30.652531    144.339496       64.758621  \n",
            "8      35.710307    131.733662       64.517313  \n",
            "9      36.516472    129.109225       64.294298  \n"
          ]
        }
      ],
      "source": [
        "import pandas as pd\n",
        "\n",
        "# Assuming your CSV file is named 'bowlers_dataset.csv'\n",
        "file_path = 'Batsmen dataset.csv'\n",
        "\n",
        "# Read the CSV file into a DataFrame\n",
        "df_batsmen = pd.read_csv(file_path)\n",
        "\n",
        "# Display the first few rows of the DataFrame to check the structure\n",
        "print(df_batsmen.head(10))\n"
      ]
    },
    {
      "cell_type": "markdown",
      "metadata": {
        "id": "c3rDnj-HCJVm"
      },
      "source": [
        "**Converting to numerical values (One-hot label encoding)**"
      ]
    },
    {
      "cell_type": "code",
      "execution_count": 5,
      "metadata": {
        "colab": {
          "base_uri": "https://localhost:8080/"
        },
        "id": "8TKsOhGwXbrR",
        "outputId": "a4204ad3-4d7d-42fd-f712-73b7abf0025e"
      },
      "outputs": [
        {
          "name": "stdout",
          "output_type": "stream",
          "text": [
            "               Player  Team  Role_Encoded  Nationality_Encoded  Mat  Inns  \\\n",
            "0         Virat Kohli   RCB             0                    1  159   158   \n",
            "3        David Warner    DC             2                    0  124   124   \n",
            "8            KL Rahul   LSG             1                    1   94    85   \n",
            "6        Rishabh Pant    DC             1                    1   84    84   \n",
            "11        Jos Buttler    RR             1                    0   65    64   \n",
            "..                ...   ...           ...                  ...  ...   ...   \n",
            "75      Hanuma Vihari   SRH             2                    1   24    23   \n",
            "77       Mohit Sharma  PBKS             2                    1   70    25   \n",
            "80     Sandeep Sharma  PBKS             2                    1   95    24   \n",
            "78  Bhuvneshwar Kumar   SRH             2                    1  117    41   \n",
            "79        Amit Mishra    DC             2                    1  108    35   \n",
            "\n",
            "    Predicted_Avg  Predicted_SR  Combined_Score  \n",
            "0       51.624080    129.154696       74.883265  \n",
            "3       44.563981    135.465935       71.834567  \n",
            "8       42.196191    131.026198       68.845194  \n",
            "6       34.717244    146.068465       68.122611  \n",
            "11      31.953769    148.943217       67.050603  \n",
            "..            ...           ...             ...  \n",
            "75      10.990785     82.937088       32.574676  \n",
            "77       9.119223     83.066536       31.303417  \n",
            "80       6.206830     87.469247       30.585555  \n",
            "78       5.538276     86.913655       29.950889  \n",
            "79       5.819274     72.265532       25.753151  \n",
            "\n",
            "[81 rows x 9 columns]\n"
          ]
        }
      ],
      "source": [
        "import pandas as pd\n",
        "from sklearn.linear_model import LinearRegression\n",
        "from sklearn.ensemble import GradientBoostingRegressor\n",
        "from sklearn.model_selection import train_test_split\n",
        "\n",
        "\n",
        "# Define functions to map categories to numerical values\n",
        "def encode_role(role):\n",
        "    if role == 'Batsmen':\n",
        "        return 0\n",
        "    elif role == 'Batsmen/WK':\n",
        "        return 1\n",
        "    elif role == 'All Rounder':\n",
        "        return 2\n",
        "    else:\n",
        "        return -1  # Add a default value for unexpected roles\n",
        "\n",
        "def encode_nationality(nationality):\n",
        "    if nationality == 'Overseas':\n",
        "        return 0\n",
        "    elif nationality == 'Indian origin':\n",
        "        return 1\n",
        "    else:\n",
        "        return -1  # Add a default value for unexpected nationalities\n",
        "\n",
        "# Apply the encoding functions\n",
        "df_batsmen['Role_Encoded'] = df_batsmen['Role'].apply(encode_role)\n",
        "df_batsmen['Nationality_Encoded'] = df_batsmen['Nationality'].apply(encode_nationality)\n",
        "\n",
        "# Features (X): All columns except 'Avg', 'SR', 'Player', and 'Team'\n",
        "X_batsmen = df_batsmen.drop(columns=['Avg', 'SR', 'Player', 'Team','Role', 'Nationality'])\n",
        "\n",
        "# Target variable for average (y): 'Avg'\n",
        "y_avg = df_batsmen['Avg']\n",
        "\n",
        "# Step 1: Initialize Linear Regression\n",
        "linear_model = LinearRegression()\n",
        "\n",
        "# Step 2: Train Linear Regression model\n",
        "linear_model.fit(X_batsmen, y_avg)\n",
        "\n",
        "# Step 3: Get predicted average from Linear Regression model\n",
        "df_batsmen['Predicted_Avg'] = linear_model.predict(X_batsmen)\n",
        "\n",
        "# Initialize the Gradient Boosting Regressor for strike rate\n",
        "model_sr = GradientBoostingRegressor()\n",
        "\n",
        "# Target variable for strike rate (y): 'SR'\n",
        "y_sr = df_batsmen['SR']\n",
        "\n",
        "# Train the model for strike rate\n",
        "model_sr.fit(X_batsmen, y_sr)\n",
        "\n",
        "# Make predictions for all batsmen's strike rate\n",
        "df_batsmen['Predicted_SR'] = model_sr.predict(X_batsmen)\n",
        "\n",
        "# Combine both predictions with weights (adjust weights as needed)\n",
        "weight_avg = 0.7\n",
        "weight_sr = 0.3\n",
        "df_batsmen['Combined_Score'] = (weight_avg * df_batsmen['Predicted_Avg']) + (weight_sr * df_batsmen['Predicted_SR'])\n",
        "\n",
        "# Filter batsmen who have played over 20 innings\n",
        "df_batsmen_filtered = df_batsmen[df_batsmen['Inns'] > 20]\n",
        "\n",
        "# Sort the filtered DataFrame based on the combined score in descending order\n",
        "df_batsmen_sorted = df_batsmen_filtered.sort_values(by='Combined_Score', ascending=False)\n",
        "\n",
        "# Display the sorted DataFrame\n",
        "print(df_batsmen_sorted[['Player', 'Team', 'Role_Encoded', 'Nationality_Encoded','Mat' ,'Inns','Predicted_Avg', 'Predicted_SR', 'Combined_Score']])\n"
      ]
    },
    {
      "cell_type": "code",
      "execution_count": 6,
      "metadata": {
        "id": "1z3Splwoa01t"
      },
      "outputs": [],
      "source": [
        "df_batsmen_sorted.to_csv(\"Batsmen Updated DataSet1 with Combined Score.csv\", index=False)"
      ]
    },
    {
      "cell_type": "markdown",
      "metadata": {
        "id": "-GB8glMmCLiD"
      },
      "source": [
        "**Final Output of players**"
      ]
    },
    {
      "cell_type": "code",
      "execution_count": 9,
      "metadata": {
        "colab": {
          "base_uri": "https://localhost:8080/"
        },
        "id": "YPbXBLiCirL5",
        "outputId": "e466f28c-a551-42b0-c5f3-e943fc402eb0"
      },
      "outputs": [
        {
          "name": "stdout",
          "output_type": "stream",
          "text": [
            "             Player\n",
            "0       Virat Kohli\n",
            "6          MS Dhoni\n",
            "14   Faf du Plessis\n",
            "26   Ajinkya Rahane\n",
            "7   Ravindra Jadeja\n",
            "26    Deepak Chahar\n",
            "29   Mohammed Siraj\n",
            "31      Karn Sharma\n",
            "['Virat Kohli', 'MS Dhoni', 'Faf du Plessis', 'Ajinkya Rahane', 'Ravindra Jadeja', 'Deepak Chahar', 'Mohammed Siraj', 'Karn Sharma']\n"
          ]
        }
      ],
      "source": [
        "import pandas as pd\n",
        "\n",
        "# List of 22 players\n",
        "players_list = [\n",
        "    \"Virat Kohli\",\"Faf du Plessis\",\"Rajat Patidar\",\"Glenn Maxwell\",\"Cameron Green\",\"Anuj Rawat\",\"Dinesh Kartik\",\"Karn Sharma\",\"Alzarri Joseph\",\"Mayank Dagar\",\"Mohammed Siraj\",\"Ruturaj Gaikwad\",\"Rachin Ravindra\",\"Ajinkya Rahane\",\"Daryl Mitchell\",\"Ravindra Jadeja\",\"Sameer Rizvi\",\"MS Dhoni\",\"Deepak Chahar\",\"Maheesh Theekshana\",\"Tushar Deshpande\",\"Mustafizur Rahman\"\n",
        "]\n",
        "\n",
        "# Assuming your CSV file is named 'bowlers_dataset.csv'\n",
        "file_path_bowlers = 'Bowlers Updated DataSet with Combined Score.csv'\n",
        "# Assuming your CSV file is named 'batsmen_dataset.csv'\n",
        "file_path_batsmen = 'Batsmen Updated DataSet1 with Combined Score.csv'\n",
        "\n",
        "# Read the CSV file into DataFrames\n",
        "df_bowlers = pd.read_csv(file_path_bowlers)\n",
        "df_batsmen = pd.read_csv(file_path_batsmen)\n",
        "\n",
        "# Replace missing values in 'Role' column with 'Bowler'\n",
        "df_bowlers['Role_of_player'].fillna('Bowler', inplace=True)  # Replacing NaN values with 'Bowler'\n",
        "df_batsmen['Role'].fillna('Unknown', inplace=True)\n",
        "\n",
        "# Selecting only the players from the list of 22 players\n",
        "df_bowlers_filtered = df_bowlers[df_bowlers['Player'].isin(players_list)]\n",
        "df_batsmen_filtered = df_batsmen[df_batsmen['Player'].isin(players_list)]\n",
        "\n",
        "# Selecting top 4 batsmen based on combined score\n",
        "top_batsmen = df_batsmen_filtered.sort_values(by='Combined_Score', ascending=False).head(4)\n",
        "\n",
        "# Selecting top 4 bowlers\n",
        "top_bowlers = df_bowlers_filtered.sort_values(by='Combined_Score', ascending=False).head(4)\n",
        "\n",
        "# Selecting top Batsmen/WK player\n",
        "top_batsmen_wk = df_batsmen_filtered[df_batsmen_filtered['Role'] == 'Batsmen/WK'].head(1)\n",
        "\n",
        "# Selecting top 2 All-rounders\n",
        "top_all_rounders = pd.concat([df_bowlers[df_bowlers['Role_of_player'] == 'All Rounder'],\n",
        "                              df_batsmen[df_batsmen['Role'] == 'All Rounder']]).sort_values(by='Combined_Score', ascending=False).head(3)\n",
        "\n",
        "# Ensuring maximum of 4 overseas players\n",
        "overseas_players_count = (top_batsmen['Nationality_Encoded'] == 0).sum() + \\\n",
        "                         (top_bowlers['Nationality_Encoded'] == 0).sum() + \\\n",
        "                         (top_all_rounders['Nationality_Encoded'] == 0).sum()\n",
        "\n",
        "if overseas_players_count > 4:\n",
        "    # Exclude the lowest ranked overseas player(s)\n",
        "    while overseas_players_count > 4:\n",
        "        lowest_overseas_player_index = all_rounders_df[all_rounders_df['Nationality_Encoded'] == 0].index[-1]\n",
        "        all_rounders_df = all_rounders_df.drop(index=lowest_overseas_player_index)\n",
        "        overseas_players_count -= 1\n",
        "\n",
        "# Selecting final 11 players\n",
        "final_11_players = pd.concat([top_batsmen, top_bowlers, top_batsmen_wk, top_all_rounders])\n",
        "\n",
        "# Removing duplicates, if any\n",
        "final_11_players = final_11_players.drop_duplicates(subset='Player')\n",
        "\n",
        "# Replace NaN values in 'Role' column with 'Bowler' for specific rows\n",
        "final_11_players.loc[final_11_players['Role'].isna(), 'Role'] = 'Bowler'\n",
        "\n",
        "# Filter out players not in the provided list\n",
        "final_11_players = final_11_players[final_11_players['Player'].isin(players_list)]\n",
        "predicted_players_list = final_11_players['Player'].tolist()\n",
        "\n",
        "\n",
        "# Displaying the final 11 players\n",
        "print(final_11_players[['Player']])\n",
        "print(predicted_players_list)\n",
        "\n"
      ]
    },
    {
      "cell_type": "code",
      "execution_count": 11,
      "metadata": {},
      "outputs": [
        {
          "name": "stdout",
          "output_type": "stream",
          "text": [
            " * Serving Flask app \"_name_\" (lazy loading)\n",
            " * Environment: production\n",
            "   WARNING: This is a development server. Do not use it in a production deployment.\n",
            "   Use a production WSGI server instead.\n",
            " * Debug mode: off\n"
          ]
        },
        {
          "name": "stderr",
          "output_type": "stream",
          "text": [
            " * Running on http://127.0.0.1:5000/ (Press CTRL+C to quit)\n",
            "127.0.0.1 - - [23/Mar/2024 09:37:00] \"\u001b[37mGET /generate-best-11-players HTTP/1.1\u001b[0m\" 200 -\n",
            "127.0.0.1 - - [23/Mar/2024 09:37:01] \"\u001b[33mGET /images/icons/gear.png HTTP/1.1\u001b[0m\" 404 -\n",
            "127.0.0.1 - - [23/Mar/2024 09:37:28] \"\u001b[37mGET /generate-best-11-players HTTP/1.1\u001b[0m\" 200 -\n"
          ]
        }
      ],
      "source": [
        "from flask import Flask, jsonify\n",
        "from flask_cors import CORS\n",
        "# from pyngrok import ngrok\n",
        "import os\n",
        "\n",
        "app = Flask('_name_')\n",
        "CORS(app)  # Initialize CORS extension with default options\n",
        "# Replace 'YOUR_AUTHTOKEN' with your actual authtoken\n",
        "# os.environ['NGROK_AUTHTOKEN'] = '2duOeIbYn04i3eCGN9VaNDCQob4_CkdNMA4DxwmzEWWYaJpx'\n",
        "\n",
        "\n",
        "# Step 4: Define endpoint to generate best 11 players\n",
        "@app.route('/generate-best-11-players')\n",
        "def generate_best_11_players():\n",
        "    # Your prediction code here\n",
        "    # This is where you would include the code for generating the best 11 players\n",
        "\n",
        "    # Sample predicted players list\n",
        "    # predicted_players = [\n",
        "    #     \"MS Dhoni\", \"Ambati Rayudu\", \"Hardik Pandya\", \"Moeen Ali\",\n",
        "    #     \"Ravindra Jadeja\", \"Mohit Sharma\", \"Rashid Khan\", \"Deepak Chahar\"\n",
        "    # ]\n",
        "\n",
        "    # Return the predicted list of players as a JSON response\n",
        "    return jsonify({'players': predicted_players_list})\n",
        "\n",
        "# Use Ngrok to expose the Flask app to the internet\n",
        "# public_url = ngrok.connect(port=5000)\n",
        "# print(\"Ngrok Tunnel URL:\", public_url)\n",
        "# %tb\n",
        "\n",
        "\n",
        "# Start the Flask app\n",
        "app.run(debug=False)"
      ]
    },
    {
      "cell_type": "markdown",
      "metadata": {
        "id": "D3b7sGyl4GZR"
      },
      "source": [
        "**Use Random Forest**"
      ]
    },
    {
      "cell_type": "markdown",
      "metadata": {
        "id": "UpAVQMfj4fb5"
      },
      "source": [
        "For batsmen"
      ]
    },
    {
      "cell_type": "code",
      "execution_count": null,
      "metadata": {
        "colab": {
          "base_uri": "https://localhost:8080/"
        },
        "id": "_iyqVPXO4NY5",
        "outputId": "e9365ada-4dfc-4e48-b1a5-eea6bd60a0f5"
      },
      "outputs": [
        {
          "name": "stdout",
          "output_type": "stream",
          "text": [
            "               Player  Predicted_Avg_RF\n",
            "0         Virat Kohli         38.549412\n",
            "1        Rohit Sharma         35.144766\n",
            "2            MS Dhoni         41.676200\n",
            "3        David Warner         42.053272\n",
            "4      Shikhar Dhawan         36.634421\n",
            "..                ...               ...\n",
            "76        Umesh Yadav         10.345337\n",
            "77       Mohit Sharma          7.720682\n",
            "78  Bhuvneshwar Kumar          9.464533\n",
            "79        Amit Mishra         10.086583\n",
            "80     Sandeep Sharma          5.086796\n",
            "\n",
            "[81 rows x 2 columns]\n"
          ]
        }
      ],
      "source": [
        "import pandas as pd\n",
        "from sklearn.ensemble import RandomForestRegressor\n",
        "\n",
        "# Load the batsmen dataset\n",
        "df_batsmen = pd.read_csv(\"Batsmen dataset.csv\")\n",
        "\n",
        "# Assuming df_batsmen is your DataFrame with batsmen stats\n",
        "\n",
        "# Features (X): All columns except 'Avg', 'SR', 'Player', 'Team', 'Role', and 'Nationality'\n",
        "X_batsmen = df_batsmen.drop(columns=['Avg', 'SR', 'Player', 'Team', 'Role', 'Nationality'])\n",
        "\n",
        "# Target variable for average (y): 'Avg'\n",
        "y_avg = df_batsmen['Avg']\n",
        "\n",
        "# Initialize the Random Forest Regressor\n",
        "model_rf_avg = RandomForestRegressor()\n",
        "\n",
        "# Train the model\n",
        "model_rf_avg.fit(X_batsmen, y_avg)\n",
        "\n",
        "# Make predictions\n",
        "df_batsmen['Predicted_Avg_RF'] = model_rf_avg.predict(X_batsmen)\n",
        "\n",
        "# Display the predictions\n",
        "print(df_batsmen[['Player', 'Predicted_Avg_RF']])\n"
      ]
    },
    {
      "cell_type": "markdown",
      "metadata": {
        "id": "qHhPtxMB4hsJ"
      },
      "source": [
        "For bowlers"
      ]
    },
    {
      "cell_type": "code",
      "execution_count": null,
      "metadata": {
        "colab": {
          "base_uri": "https://localhost:8080/"
        },
        "id": "1npn238_4jQL",
        "outputId": "349642ee-94bd-4137-bdbc-9b2ff5dec855"
      },
      "outputs": [
        {
          "name": "stdout",
          "output_type": "stream",
          "text": [
            "                  Player  Predicted_Econ_RF\n",
            "0           Dwayne Bravo           8.274785\n",
            "1            Amit Mishra           7.373098\n",
            "2    Ravichandran Ashwin           6.669695\n",
            "3       Yuzvendra Chahal           7.742723\n",
            "4      Bhuvneshwar Kumar           7.220106\n",
            "..                   ...                ...\n",
            "99             Ish Sodhi           7.592158\n",
            "100          Virat Kohli           9.762757\n",
            "101        Harpreet Brar           8.633213\n",
            "102         Jayant Yadav           6.615731\n",
            "103         Suresh Raina           7.600117\n",
            "\n",
            "[104 rows x 2 columns]\n"
          ]
        }
      ],
      "source": [
        "import pandas as pd\n",
        "from sklearn.ensemble import RandomForestRegressor\n",
        "from sklearn.preprocessing import LabelEncoder\n",
        "\n",
        "# Load the bowler dataset\n",
        "df_bowlers = pd.read_csv(\"Bowler dataset.csv\")\n",
        "\n",
        "# Encode categorical features\n",
        "label_encoder = LabelEncoder()\n",
        "df_bowlers['Role_Encoded'] = label_encoder.fit_transform(df_bowlers['Role_of_player'])\n",
        "df_bowlers['Nationality_Encoded'] = label_encoder.fit_transform(df_bowlers['Nationality'])\n",
        "\n",
        "# Features (X): All columns except 'Econ', 'Wkts', 'Player', 'Team', 'Role_of_player', 'Nationality'\n",
        "X_bowlers = df_bowlers.drop(columns=['Econ', 'Wkts', 'Player', 'Team', 'Role_of_player', 'Nationality'])\n",
        "\n",
        "# Target variable for economy (y): 'Econ'\n",
        "y_econ = df_bowlers['Econ']\n",
        "\n",
        "# Initialize the Random Forest Regressor\n",
        "model_rf_econ = RandomForestRegressor()\n",
        "\n",
        "# Train the model\n",
        "model_rf_econ.fit(X_bowlers, y_econ)\n",
        "\n",
        "# Make predictions\n",
        "df_bowlers['Predicted_Econ_RF'] = model_rf_econ.predict(X_bowlers)\n",
        "\n",
        "# Display the predictions\n",
        "print(df_bowlers[['Player', 'Predicted_Econ_RF']])\n"
      ]
    },
    {
      "cell_type": "markdown",
      "metadata": {
        "id": "nw5JDuA46XUg"
      },
      "source": [
        "**Shift output to relevant files**\n"
      ]
    },
    {
      "cell_type": "code",
      "execution_count": null,
      "metadata": {
        "id": "2PAT-dU66SjE"
      },
      "outputs": [],
      "source": [
        "df_bowlers.to_csv(\"Bowlers Random Forest.csv\", index=False)"
      ]
    },
    {
      "cell_type": "code",
      "execution_count": null,
      "metadata": {
        "id": "S4ZqqhfY6guG"
      },
      "outputs": [],
      "source": [
        "df_batsmen.to_csv(\"Batsmen Random Forest.csv\", index=False)"
      ]
    },
    {
      "cell_type": "markdown",
      "metadata": {
        "id": "mhunApp0ute-"
      },
      "source": [
        "**Final Output with Random Forest**"
      ]
    },
    {
      "cell_type": "code",
      "execution_count": null,
      "metadata": {
        "colab": {
          "base_uri": "https://localhost:8080/"
        },
        "id": "DCvQ_ktB63rt",
        "outputId": "8bbbf941-4e4c-4da5-b64f-cf5c780f8d59"
      },
      "outputs": [
        {
          "name": "stdout",
          "output_type": "stream",
          "text": [
            "             Player\n",
            "9     Ambati Rayudu\n",
            "17   Ajinkya Rahane\n",
            "39     Shubman Gill\n",
            "55  Ruturaj Gaikwad\n",
            "12     Mohit Sharma\n",
            "25    Deepak Chahar\n",
            "82    Vijay Shankar\n",
            "2          MS Dhoni\n"
          ]
        }
      ],
      "source": [
        "import pandas as pd\n",
        "\n",
        "players_list = [\n",
        "    \"Wriddhiman Saha\", \"Shubman Gill\", \"Sai Sudharshan\", \"Hardik Pandya\",\n",
        "    \"Rashid Khan\", \"Vijay Shankar\", \"David Miller\", \"Rahul Tewatia\",\n",
        "    \"Mohit Sharma\", \"Noor Ahmad\", \"Mohammed Shami\", \"Ruturaj Gaikwad\",\n",
        "    \"Devon Conway\", \"Shivam Dube\", \"Ajinkya Rahane\", \"Ambati Rayudu\",\n",
        "    \"MS Dhoni\", \"Ravindra Jadeja\", \"Moeen Ali\", \"Deepak Chahar\",\n",
        "    \"Tushar Deshpande\", \"Maheesh Theekshana\"\n",
        "]\n",
        "\n",
        "# Assuming your CSV file is named 'bowlers_dataset.csv'\n",
        "file_path_bowlers = 'Bowlers Random Forest.csv'\n",
        "# Assuming your CSV file is named 'batsmen_dataset.csv'\n",
        "file_path_batsmen = 'Batsmen Random Forest.csv'\n",
        "\n",
        "# Read the CSV file into DataFrames\n",
        "df_bowlers = pd.read_csv(file_path_bowlers)\n",
        "df_batsmen = pd.read_csv(file_path_batsmen)\n",
        "\n",
        "# Replace missing values in 'Role' column with 'Bowler' for bowlers\n",
        "df_bowlers['Role_of_player'].fillna('Bowler', inplace=True)\n",
        "\n",
        "# Replace missing values in 'Role' column with 'Unknown' for batsmen\n",
        "df_batsmen['Role'].fillna('Unknown', inplace=True)\n",
        "\n",
        "# Selecting only the players from the list of 22 players\n",
        "df_bowlers_filtered = df_bowlers[df_bowlers['Player'].isin(players_list)]\n",
        "df_batsmen_filtered = df_batsmen[df_batsmen['Player'].isin(players_list)]\n",
        "\n",
        "# Selecting top 3 batsmen, 3 bowlers, and 1 wicket-keeper\n",
        "top_batsmen = df_batsmen_filtered[df_batsmen_filtered['Role'] == 'Batsmen'].head(4)\n",
        "top_bowlers = df_bowlers_filtered[df_bowlers_filtered['Role_of_player'] == 'Bowler'].head(3)\n",
        "top_wicket_keeper = df_batsmen_filtered[df_batsmen_filtered['Role'] == 'Batsmen/WK'].head(1)\n",
        "\n",
        "# Combine the selected players\n",
        "final_players = pd.concat([top_batsmen, top_bowlers, top_wicket_keeper])\n",
        "\n",
        "# Displaying the final 7 players\n",
        "print(final_players[['Player']])"
      ]
    },
    {
      "cell_type": "markdown",
      "metadata": {
        "id": "GMD49zeBmccB"
      },
      "source": [
        "**Arrange Batsmen of CSK vs GT Match**"
      ]
    },
    {
      "cell_type": "code",
      "execution_count": null,
      "metadata": {
        "colab": {
          "base_uri": "https://localhost:8080/"
        },
        "id": "PUGTGwiMk59I",
        "outputId": "20ecc9ad-09cf-4645-cafb-dde308929d6a"
      },
      "outputs": [
        {
          "name": "stdout",
          "output_type": "stream",
          "text": [
            "             Player   R   B      SR\n",
            "1   Ruturaj Gaikwad  92  50  184.00\n",
            "10     Shubman Gill  63  36  175.00\n",
            "13    Vijay Shankar  27  21  128.57\n",
            "9   Wriddhiman Saha  25  16  156.25\n",
            "2         Moeen Ali  23  17  135.29\n",
            "11    Sai Sudharsan  22  17  129.41\n",
            "5       Shivam Dube  19  18  105.55\n",
            "14    Rahul Tewatia  15  14  107.14\n"
          ]
        }
      ],
      "source": [
        "import pandas as pd\n",
        "\n",
        "# Assuming 'batsmen_stats.csv' is the name of your spreadsheet file\n",
        "file_path = 'gt_csk_bat.csv'\n",
        "\n",
        "# Read the CSV file into a DataFrame\n",
        "batsmen_df = pd.read_csv(file_path)\n",
        "\n",
        "# Sort the DataFrame based on 'Runs' column in descending order, then 'Strike Rate' column in descending order\n",
        "sorted_batsmen_df = batsmen_df.sort_values(by=['R', 'SR'], ascending=[False, False])\n",
        "\n",
        "# Select the top 8 batsmen\n",
        "top_8_batsmen = sorted_batsmen_df.head(8)\n",
        "\n",
        "# Display the top 8 batsmen\n",
        "print(top_8_batsmen)\n"
      ]
    },
    {
      "cell_type": "markdown",
      "metadata": {
        "id": "ZWjHJTR3mfHy"
      },
      "source": [
        "**Arrange Bowlers of CSK vs GT Match**"
      ]
    },
    {
      "cell_type": "code",
      "execution_count": null,
      "metadata": {
        "colab": {
          "base_uri": "https://localhost:8080/"
        },
        "id": "yzGUHXTEmbes",
        "outputId": "5e9b0611-22f5-4bb1-d172-6cef51a5f1d3"
      },
      "outputs": [
        {
          "name": "stdout",
          "output_type": "stream",
          "text": [
            "             Player   R   B      SR\n",
            "1   Ruturaj Gaikwad  92  50  184.00\n",
            "10     Shubman Gill  63  36  175.00\n",
            "13    Vijay Shankar  27  21  128.57\n",
            "9   Wriddhiman Saha  25  16  156.25\n",
            "2         Moeen Ali  23  17  135.29\n",
            "11    Sai Sudharsan  22  17  129.41\n",
            "5       Shivam Dube  19  18  105.55\n",
            "14    Rahul Tewatia  15  14  107.14\n"
          ]
        }
      ],
      "source": [
        "import pandas as pd\n",
        "\n",
        "# Assuming 'bowler_stats.csv' is the name of your spreadsheet file\n",
        "file_path = 'gt_csk_ball.csv'\n",
        "\n",
        "# Read the CSV file into a DataFrame\n",
        "bowler_df = pd.read_csv(file_path)\n",
        "\n",
        "# Sort the DataFrame based on 'Wkts' column in descending order, then 'Econ' column in ascending order\n",
        "sorted_bowler_df = bowler_df.sort_values(by=['W', 'ECON'], ascending=[False, True])\n",
        "\n",
        "# # Display the sorted DataFrame\n",
        "# print(sorted_bowler_df)\n",
        "\n",
        "top_8_bowler = sorted_batsmen_df.head(8)\n",
        "\n",
        "# Display the top 8 batsmen\n",
        "print(top_8_bowler)"
      ]
    },
    {
      "cell_type": "markdown",
      "metadata": {
        "id": "Yb8sr_sFpq4g"
      },
      "source": [
        "**Compare using GBR**"
      ]
    },
    {
      "cell_type": "code",
      "execution_count": null,
      "metadata": {
        "colab": {
          "base_uri": "https://localhost:8080/"
        },
        "id": "VrGP9AQ3pnY6",
        "outputId": "9d03d81e-69ee-4351-93af-d7a6a11f95ce"
      },
      "outputs": [
        {
          "name": "stdout",
          "output_type": "stream",
          "text": [
            "Number of unique players present in both dataframes: 1\n"
          ]
        }
      ],
      "source": [
        "import pandas as pd\n",
        "\n",
        "# Assuming df1 and df2 are your two dataframes\n",
        "\n",
        "# Merge the two dataframes\n",
        "merged_df1 = pd.merge(final_11_players, top_8_batsmen, how='inner', on='Player')\n",
        "merged_df2 = pd.merge(final_11_players, top_8_bowler, how='inner', on='Player')\n",
        "\n",
        "# Count the number of rows in the merged dataframe\n",
        "count_same_values = len(merged_df1) + len(merged_df2)\n",
        "\n",
        "concatenated_df = pd.concat([merged_df1, merged_df2])\n",
        "\n",
        "# Count the number of unique players\n",
        "unique_players_count = concatenated_df['Player'].nunique()\n",
        "\n",
        "print(\"Number of unique players present in both dataframes:\", unique_players_count)\n"
      ]
    },
    {
      "cell_type": "markdown",
      "metadata": {
        "id": "hFrHO4j3q2YK"
      },
      "source": [
        "**Compare using RF**"
      ]
    },
    {
      "cell_type": "code",
      "execution_count": null,
      "metadata": {
        "colab": {
          "base_uri": "https://localhost:8080/"
        },
        "id": "nOJyxRPXq164",
        "outputId": "48d849ee-e397-416c-b6a7-fbc4ad2aebba"
      },
      "outputs": [
        {
          "name": "stdout",
          "output_type": "stream",
          "text": [
            "Number of unique bowlers present in both dataframes: 3\n"
          ]
        }
      ],
      "source": [
        "import pandas as pd\n",
        "\n",
        "# Assuming df1 and df2 are your two dataframes\n",
        "\n",
        "# Merge the two dataframes\n",
        "merged_df1 = pd.merge(final_players, top_8_batsmen, how='inner', on='Player')\n",
        "merged_df2 = pd.merge(final_players, top_8_bowler, how='inner', on='Player')\n",
        "\n",
        "# Count the number of rows in the merged dataframe\n",
        "count_same_values = len(merged_df1) + len(merged_df2)\n",
        "\n",
        "concatenated_bowlers_df = pd.concat([merged_df1, merged_df2])\n",
        "\n",
        "# Count the number of unique players\n",
        "unique_bowlers_count = concatenated_bowlers_df['Player'].nunique()\n",
        "\n",
        "print(\"Number of unique bowlers present in both dataframes:\", unique_bowlers_count)"
      ]
    },
    {
      "cell_type": "markdown",
      "metadata": {
        "id": "cyHGSiY1YTTv"
      },
      "source": [
        "**Graph of results**"
      ]
    },
    {
      "cell_type": "code",
      "execution_count": null,
      "metadata": {
        "colab": {
          "base_uri": "https://localhost:8080/",
          "height": 410
        },
        "id": "-S2QDvCDWIUR",
        "outputId": "07f17b52-86d3-41a2-c8fd-0cd215a7afe6"
      },
      "outputs": [
        {
          "data": {
            "image/png": "[encoded data removed]",
            "text/plain": [
              "<Figure size 600x400 with 1 Axes>"
            ]
          },
          "metadata": {},
          "output_type": "display_data"
        }
      ],
      "source": [
        "import matplotlib.pyplot as plt\n",
        "import numpy as np\n",
        "\n",
        "# Define the counts\n",
        "gbr_better = 19\n",
        "rf_better = 1\n",
        "same_results = 5\n",
        "\n",
        "# Labels for the bars\n",
        "labels = ['GBR Better', 'RF Better', 'Same Results']\n",
        "\n",
        "# Heights of the bars\n",
        "heights = [gbr_better, rf_better, same_results]\n",
        "\n",
        "# Calculate the maximum count rounded up to the nearest whole number\n",
        "max_count = np.ceil(max(heights))\n",
        "\n",
        "# Create the bar chart with a smaller figure size\n",
        "plt.figure(figsize=(6, 4))\n",
        "bars = plt.bar(labels, heights, color=['blue', 'green', 'orange'])\n",
        "\n",
        "# Add labels and title\n",
        "plt.xlabel('Performance Comparison')\n",
        "plt.ylabel('Number of Cases')\n",
        "plt.title('Performance Comparison between GBR and RF')\n",
        "\n",
        "# Set y-axis ticks to only display even numbers\n",
        "plt.yticks(np.arange(0, max_count + 1, 2))\n",
        "\n",
        "# Add counts above the bars\n",
        "for bar in bars:\n",
        "    height = bar.get_height()\n",
        "    plt.text(bar.get_x() + bar.get_width() / 2, height, str(int(height)), ha='center', va='bottom')\n",
        "\n",
        "# Show the plot\n",
        "plt.show()\n"
      ]
    }
  ],
  "metadata": {
    "colab": {
      "provenance": []
    },
    "kernelspec": {
      "display_name": "Python 3",
      "name": "python3"
    },
    "language_info": {
      "codemirror_mode": {
        "name": "ipython",
        "version": 3
      },
      "file_extension": ".py",
      "mimetype": "text/x-python",
      "name": "python",
      "nbconvert_exporter": "python",
      "pygments_lexer": "ipython3",
      "version": "3.9.6"
    }
  },
  "nbformat": 4,
  "nbformat_minor": 0
}
